{
  "cells": [
    {
      "cell_type": "markdown",
      "metadata": {
        "id": "view-in-github",
        "colab_type": "text"
      },
      "source": [
        "<a href=\"https://colab.research.google.com/github/Mansi1911999/Web-Scraping-Project/blob/main/Numerical_Programming_in_Python_Web_Scraping%20By%20MansiGupta.ipynb\" target=\"_parent\"><img src=\"https://colab.research.google.com/assets/colab-badge.svg\" alt=\"Open In Colab\"/></a>"
      ]
    },
    {
      "cell_type": "markdown",
      "metadata": {
        "id": "bKFlk3slQ1ol"
      },
      "source": [
        "# **Web Scraping & Data Handling Challenge**"
      ]
    },
    {
      "cell_type": "markdown",
      "metadata": {
        "id": "YU_opgaCYpcO"
      },
      "source": [
        "\n",
        "\n",
        "### **Website:**\n",
        "JustWatch -  https://www.justwatch.com/in/movies?release_year_from=2000\n",
        "\n",
        "\n",
        "### **Description:**\n",
        "\n",
        "JustWatch is a popular platform that allows users to search for movies and TV shows across multiple streaming services like Netflix, Amazon Prime, Hulu, etc. For this assignment, you will be required to scrape movie and TV show data from JustWatch using Selenium, Python, and BeautifulSoup. Extract data from HTML, not by directly calling their APIs. Then, perform data filtering and analysis using Pandas, and finally, save the results to a CSV file.\n",
        "\n",
        "### **Tasks:**\n",
        "\n",
        "**1. Web Scraping:**\n",
        "\n",
        "Use BeautifulSoup to scrape the following data from JustWatch:\n",
        "\n",
        "   **a. Movie Information:**\n",
        "\n",
        "      - Movie title\n",
        "      - Release year\n",
        "      - Genre\n",
        "      - IMDb rating\n",
        "      - Streaming services available (Netflix, Amazon Prime, Hulu, etc.)\n",
        "      - URL to the movie page on JustWatch\n",
        "\n",
        "   **b. TV Show Information:**\n",
        "\n",
        "      - TV show title\n",
        "      - Release year\n",
        "      - Genre\n",
        "      - IMDb rating\n",
        "      - Streaming services available (Netflix, Amazon Prime, Hulu, etc.)\n",
        "      - URL to the TV show page on JustWatch\n",
        "\n",
        "  **c. Scope:**\n",
        "\n",
        "```\n",
        " ` - Scrape data for at least 50 movies and 50 TV shows.\n",
        "   - You can choose the entry point (e.g., starting with popular movies,\n",
        "     or a specific genre, etc.) to ensure a diverse dataset.`\n",
        "\n",
        "```\n",
        "\n",
        "\n",
        "**2. Data Filtering & Analysis:**\n",
        "\n",
        "   After scraping the data, use Pandas to perform the following tasks:\n",
        "\n",
        "   **a. Filter movies and TV shows based on specific criteria:**\n",
        "\n",
        "   ```\n",
        "      - Only include movies and TV shows released in the last 2 years (from the current date).\n",
        "      - Only include movies and TV shows with an IMDb rating of 7 or higher.\n",
        "```\n",
        "\n",
        "   **b. Data Analysis:**\n",
        "\n",
        "   ```\n",
        "      - Calculate the average IMDb rating for the scraped movies and TV shows.\n",
        "      - Identify the top 5 genres that have the highest number of available movies and TV shows.\n",
        "      - Determine the streaming service with the most significant number of offerings.\n",
        "      \n",
        "   ```   \n",
        "\n",
        "**3. Data Export:**\n",
        "\n",
        "```\n",
        "   - Dump the filtered and analysed data into a CSV file for further processing and reporting.\n",
        "\n",
        "   - Keep the CSV file in your Drive Folder and Share the Drive link on the colab while keeping view access with anyone.\n",
        "```\n",
        "\n",
        "**Submission:**\n",
        "```\n",
        "- Submit a link to your Colab made for the assignment.\n",
        "\n",
        "- The Colab should contain your Python script (.py format only) with clear\n",
        "  comments explaining the scraping, filtering, and analysis process.\n",
        "\n",
        "- Your Code shouldn't have any errors and should be executable at a one go.\n",
        "\n",
        "- Before Conclusion, Keep your Dataset Drive Link in the Notebook.\n",
        "```\n",
        "\n",
        "\n",
        "\n",
        "**Note:**\n",
        "\n",
        "1. Properly handle errors and exceptions during web scraping to ensure a robust script.\n",
        "\n",
        "2. Make sure your code is well-structured, easy to understand, and follows Python best practices.\n",
        "\n",
        "3. The assignment will be evaluated based on the correctness of the scraped data, accuracy of data filtering and analysis, and the overall quality of the Python code.\n",
        "\n",
        "\n",
        "\n",
        "\n",
        "\n",
        "\n"
      ]
    },
    {
      "cell_type": "markdown",
      "metadata": {
        "id": "k8ptoMlNQ5zB"
      },
      "source": [
        "# **Start The Project**"
      ]
    },
    {
      "cell_type": "markdown",
      "metadata": {
        "id": "-xHLaFLPn4yC"
      },
      "source": [
        "## **Task 1:- Web Scrapping**"
      ]
    },
    {
      "cell_type": "code",
      "execution_count": null,
      "metadata": {
        "id": "axiEsy9ZL3qd"
      },
      "outputs": [],
      "source": [
        "#Installing all necessary labraries\n",
        "!pip install bs4\n",
        "!pip install requests"
      ]
    },
    {
      "cell_type": "code",
      "execution_count": 7,
      "metadata": {
        "id": "omJlLZASQBmU"
      },
      "outputs": [],
      "source": [
        "#import all necessary labraries\n",
        "import requests\n",
        "from bs4 import BeautifulSoup\n",
        "import re\n",
        "import pandas as pd\n",
        "import numpy as np\n",
        "import time"
      ]
    },
    {
      "cell_type": "markdown",
      "metadata": {
        "id": "NCWbwB1Og3bD"
      },
      "source": [
        "## **Scrapping Movies Data**"
      ]
    },
    {
      "cell_type": "code",
      "execution_count": 8,
      "metadata": {
        "id": "nPDgza5mQJKr"
      },
      "outputs": [],
      "source": [
        "# Specifying the URL from which movies related data will be fetched\n",
        "url='https://www.justwatch.com/in/movies?release_year_from=2000'\n",
        "\n",
        "# Sending an HTTP GET request to the URL\n",
        "page=requests.get(url)\n",
        "# Parsing the HTML content using BeautifulSoup with the 'html.parser'\n",
        "soup=BeautifulSoup(page.text,'lxml')\n",
        "# Printing the prettified HTML content\n",
        "# print(soup.prettify())"
      ]
    },
    {
      "cell_type": "markdown",
      "metadata": {
        "id": "V-qsNrtIsBEp"
      },
      "source": [
        "## **Fetching Movie URL's**"
      ]
    },
    {
      "cell_type": "code",
      "execution_count": null,
      "metadata": {
        "colab": {
          "base_uri": "https://localhost:8080/"
        },
        "id": "nXj9U4lshQY1",
        "outputId": "4b52d1d7-3050-4801-e29c-c530dce27969"
      },
      "outputs": [
        {
          "name": "stdout",
          "output_type": "stream",
          "text": [
            "100\n",
            "['https://www.justwatch.com/in/movie/hanu-man', 'https://www.justwatch.com/in/movie/untitled-shahid-kapoor-kriti-sanon-film', 'https://www.justwatch.com/in/movie/oppenheimer', 'https://www.justwatch.com/in/movie/fighter-2022', 'https://www.justwatch.com/in/movie/anatomie-dune-chute', 'https://www.justwatch.com/in/movie/bramayugam', 'https://www.justwatch.com/in/movie/poor-things', 'https://www.justwatch.com/in/movie/animal-2022', 'https://www.justwatch.com/in/movie/dune-2021', 'https://www.justwatch.com/in/movie/manjummel-boys', 'https://www.justwatch.com/in/movie/premalu', 'https://www.justwatch.com/in/movie/road-house-2024', 'https://www.justwatch.com/in/movie/12th-fail', 'https://www.justwatch.com/in/movie/anyone-but-you', 'https://www.justwatch.com/in/movie/murder-mubarak', 'https://www.justwatch.com/in/movie/the-crew-2024', 'https://www.justwatch.com/in/movie/dune-part-two', 'https://www.justwatch.com/in/movie/aattam', 'https://www.justwatch.com/in/movie/black-magic-2024', 'https://www.justwatch.com/in/movie/kung-fu-panda', 'https://www.justwatch.com/in/movie/article-370', 'https://www.justwatch.com/in/movie/sam-bahadur', 'https://www.justwatch.com/in/movie/merry-christmas-2024', 'https://www.justwatch.com/in/movie/godzilla-x-kong-the-new-empire', 'https://www.justwatch.com/in/movie/the-beekeeper-2024', 'https://www.justwatch.com/in/movie/madame-web', 'https://www.justwatch.com/in/movie/laapataa-ladies', 'https://www.justwatch.com/in/movie/salaar', 'https://www.justwatch.com/in/movie/eagle-2024', 'https://www.justwatch.com/in/movie/365-days', 'https://www.justwatch.com/in/movie/kung-fu-panda-4', 'https://www.justwatch.com/in/movie/anweshippin-kandethum', 'https://www.justwatch.com/in/movie/abraham-ozler', 'https://www.justwatch.com/in/movie/the-kerala-story', 'https://www.justwatch.com/in/movie/aquaman-and-the-lost-kingdom', 'https://www.justwatch.com/in/movie/godzilla-vs-kong', 'https://www.justwatch.com/in/movie/madgaon-express', 'https://www.justwatch.com/in/movie/lover-2024', 'https://www.justwatch.com/in/movie/godzilla-minus-one', 'https://www.justwatch.com/in/movie/ferrari', 'https://www.justwatch.com/in/movie/gaami', 'https://www.justwatch.com/in/movie/dunki', 'https://www.justwatch.com/in/movie/main-atal-hoon', 'https://www.justwatch.com/in/movie/mission-chapter-1', 'https://www.justwatch.com/in/movie/joker-2019', 'https://www.justwatch.com/in/movie/migration', 'https://www.justwatch.com/in/movie/dj-tillu', 'https://www.justwatch.com/in/movie/the-holdovers', 'https://www.justwatch.com/in/movie/aadujeevitham', 'https://www.justwatch.com/in/movie/damsel-2023', 'https://www.justwatch.com/in/movie/harry-potter-and-the-philosophers-stone', 'https://www.justwatch.com/in/movie/operation-valentine', 'https://www.justwatch.com/in/movie/chaari-111', 'https://www.justwatch.com/in/movie/she-said', 'https://www.justwatch.com/in/movie/zara-hatke-zara-bach-ke', 'https://www.justwatch.com/in/movie/yodha-2022', 'https://www.justwatch.com/in/movie/the-gentlemen', 'https://www.justwatch.com/in/movie/por', 'https://www.justwatch.com/in/movie/jawan', 'https://www.justwatch.com/in/movie/vadakkupatti-ramasamy', 'https://www.justwatch.com/in/movie/red-eye', 'https://www.justwatch.com/in/movie/jatt-nuu-chudail-takri', 'https://www.justwatch.com/in/movie/kung-fu-panda-2', 'https://www.justwatch.com/in/movie/barbie-2023', 'https://www.justwatch.com/in/movie/the-wolf-of-wall-street', 'https://www.justwatch.com/in/movie/ayalaan', 'https://www.justwatch.com/in/movie/crakk-jeetegaa-toh-jiyegaa', 'https://www.justwatch.com/in/movie/scoop-0', 'https://www.justwatch.com/in/movie/rush-2013', 'https://www.justwatch.com/in/movie/k-g-f-chapter-2', 'https://www.justwatch.com/in/movie/swatantra-veer-savarkar', 'https://www.justwatch.com/in/movie/interstellar', 'https://www.justwatch.com/in/movie/rebel-2024', 'https://www.justwatch.com/in/movie/thundu', 'https://www.justwatch.com/in/movie/kung-fu-panda-3', 'https://www.justwatch.com/in/movie/the-zone-of-interest', 'https://www.justwatch.com/in/movie/untitled-cord-jefferson-film', 'https://www.justwatch.com/in/movie/godzilla-king-of-the-monsters', 'https://www.justwatch.com/in/movie/kong-skull-island', 'https://www.justwatch.com/in/movie/killers-of-the-flower-moon', 'https://www.justwatch.com/in/movie/pushpa', 'https://www.justwatch.com/in/movie/dream-scenario', 'https://www.justwatch.com/in/movie/godzilla', 'https://www.justwatch.com/in/movie/blackberry', 'https://www.justwatch.com/in/movie/argylle', 'https://www.justwatch.com/in/movie/emily-the-criminal', 'https://www.justwatch.com/in/movie/farrey', 'https://www.justwatch.com/in/movie/ssmb-28', 'https://www.justwatch.com/in/movie/tumbbad', 'https://www.justwatch.com/in/movie/masthu-shades-unnai-ra', 'https://www.justwatch.com/in/movie/rocky-aur-rani-ki-prem-kahani', 'https://www.justwatch.com/in/movie/spider-man-no-way-home', 'https://www.justwatch.com/in/movie/saint-seiya-knights-of-the-zodiac', 'https://www.justwatch.com/in/movie/captain-miller', 'https://www.justwatch.com/in/movie/uri-the-surgical-strike', 'https://www.justwatch.com/in/movie/la-la-land', 'https://www.justwatch.com/in/movie/family-star', 'https://www.justwatch.com/in/movie/tomb-raider', 'https://www.justwatch.com/in/movie/john-wick', 'https://www.justwatch.com/in/movie/welcome-home']\n"
          ]
        }
      ],
      "source": [
        "# Write Your Code here\n",
        "movie_url_list = []\n",
        "\n",
        "movie_url = soup.find_all(\"a\", class_ = \"title-list-grid__item--link\")\n",
        "for link in movie_url:\n",
        "  cnp =\"https://www.justwatch.com\"+ link.get(\"href\")\n",
        "  url2 = cnp\n",
        "  r = requests.get(url2)\n",
        "  soup2 = BeautifulSoup(r.text, \"lxml\")\n",
        "  movie_url_list.append(cnp)\n",
        "\n",
        "print(len(movie_url_list))\n",
        "print(movie_url_list)"
      ]
    },
    {
      "cell_type": "code",
      "execution_count": null,
      "metadata": {
        "id": "-lryi7JSy8Vb"
      },
      "outputs": [],
      "source": [
        "def get_movie_data(link, tryCount = 0):\n",
        "  # so that code doesn't get stuck in infinite loop\n",
        "  if tryCount > 2:\n",
        "    return \"\"\n",
        "\n",
        "  # fetch data\n",
        "  response = requests.get(link)\n",
        "\n",
        "  # handle 429 error\n",
        "  if response.status_code == 429:\n",
        "    time.sleep(5)\n",
        "    return get_movie_data(link, tryCount + 1)\n",
        "\n",
        "  return BeautifulSoup(response.text, \"lxml\")\n",
        "\n",
        "movies_data = []\n",
        "\n",
        "for link in movie_url_list:\n",
        "  movie_data = get_movie_data(link)\n",
        "  movies_data.append(movie_data)\n"
      ]
    },
    {
      "cell_type": "markdown",
      "metadata": {
        "id": "Dam_ehZgvgmw"
      },
      "source": [
        "## **Scrapping Movie Title**"
      ]
    },
    {
      "cell_type": "code",
      "execution_count": null,
      "metadata": {
        "colab": {
          "base_uri": "https://localhost:8080/"
        },
        "id": "1FGDXRKQxd1s",
        "outputId": "e503846a-3a81-4e43-993b-74ee312476b3"
      },
      "outputs": [
        {
          "name": "stdout",
          "output_type": "stream",
          "text": [
            "100\n",
            "['Hanu-Man', 'Teri Baaton Mein Aisa Uljha Jiya', 'Oppenheimer', 'Fighter', 'Anatomy of a Fall', 'Bramayugam', 'Poor Things', 'Animal', 'Dune', 'Manjummel Boys', 'Premalu', 'Road House', '12th Fail', 'Anyone But You', 'Murder Mubarak', 'Crew', 'Dune: Part Two', 'Aattam', 'Shaitaan', 'Kung Fu Panda', 'Article 370', 'Sam Bahadur', 'Merry Christmas', 'Godzilla x Kong: The New Empire', 'The Beekeeper', 'Madame Web', 'Laapataa Ladies', 'Salaar', 'Eagle', '365 Days', 'Kung Fu Panda 4', 'Anweshippin Kandethum', 'Abraham Ozler', 'The Kerala Story', 'Aquaman and the Lost Kingdom', 'Godzilla vs. Kong', 'Madgaon Express', 'Lover', 'Godzilla Minus One', 'Ferrari', 'Gaami', 'Dunki', 'Main Atal Hoon', 'Mission: Chapter 1', 'Joker', 'Migration', 'DJ Tillu', 'The Holdovers', 'The Goat Life', 'Damsel', \"Harry Potter and the Philosopher's Stone\", 'Operation Valentine', 'Chaari 111', 'She Said', 'Zara Hatke Zara Bachke', 'Yodha', 'The Gentlemen', 'Por', 'Jawan', 'Vadakkupatti Ramasamy', 'Red Eye', 'Jatt Nuu Chudail Takri', 'Kung Fu Panda 2', 'Barbie', 'The Wolf of Wall Street', 'Ayalaan', 'Crakk: Jeetega... Toh Jiyegaa', 'Scoop', 'Rush', 'K.G.F: Chapter 2', 'Swatantra Veer Savarkar', 'Interstellar', 'Rebel', 'Thundu', 'Kung Fu Panda 3', 'The Zone of Interest', 'American Fiction', 'Godzilla: King of the Monsters', 'Kong: Skull Island', 'Killers of the Flower Moon', 'Pushpa: The Rise', 'Dream Scenario', 'Godzilla', 'BlackBerry', 'Argylle', 'Emily the Criminal', 'Farrey', 'Guntur Kaaram', 'Tumbbad', 'Masthu Shades Unnai Ra', 'Rocky Aur Rani Kii Prem Kahaani', 'Spider-Man: No Way Home', 'Knights of the Zodiac', 'Captain Miller', 'Uri: The Surgical Strike', 'La La Land', 'Family Star', 'Tomb Raider', 'John Wick', 'Welcome Home']\n"
          ]
        }
      ],
      "source": [
        "# Write Your Code here\n",
        "movie_title_list= []\n",
        "for movie_data in movies_data:\n",
        "  title_block = movie_data.find(\"div\", class_=\"title-block\").h1.text.split('(')[0]\n",
        "  movie_title_list.append(title_block.strip())\n",
        "print(len(movie_title_list))\n",
        "print(movie_title_list)\n"
      ]
    },
    {
      "cell_type": "markdown",
      "metadata": {
        "id": "VEg1U1uPzGoj"
      },
      "source": [
        "## **Scrapping release Year**"
      ]
    },
    {
      "cell_type": "code",
      "execution_count": null,
      "metadata": {
        "colab": {
          "base_uri": "https://localhost:8080/"
        },
        "id": "wLqLKOvP5Gmt",
        "outputId": "e395d262-6fa8-4948-f429-f8783dea581d"
      },
      "outputs": [
        {
          "name": "stdout",
          "output_type": "stream",
          "text": [
            "100\n",
            "['2024', '2024', '2023', '2024', '2023', '2024', '2023', '2023', '2021', '2024', '2024', '2024', '2023', '2023', '2024', '2024', '2024', '2024', '2024', '2008', '2024', '2023', '2024', '2024', '2024', '2024', '2024', '2023', '2024', '2020', '2024', '2024', '2024', '2023', '2023', '2021', '2024', '2024', '2023', '2023', '2024', '2023', '2024', '2024', '2019', '2023', '2022', '2023', '2024', '2024', '2001', '2024', '2024', '2022', '2023', '2024', '2020', '2024', '2023', '2024', '2005', '2024', '2011', '2023', '2013', '2024', '2024', '2024', '2013', '2022', '2024', '2014', '2024', '2024', '2016', '2023', '2023', '2019', '2017', '2023', '2021', '2023', '2014', '2023', '2024', '2022', '2023', '2024', '2018', '2024', '2023', '2021', '2023', '2024', '2019', '2016', '2024', '2018', '2014', '2020']\n"
          ]
        }
      ],
      "source": [
        "#  Write Your Code here\n",
        "\n",
        "releasing_year_list= []\n",
        "for movie_data in movies_data:\n",
        "  release_year_block = movie_data.find(\"div\", class_=\"title-block\")\n",
        "  releasing_year_list.append(release_year_block.h1.span.text.strip()[1:-1])\n",
        "print(len(releasing_year_list))\n",
        "print(releasing_year_list)\n"
      ]
    },
    {
      "cell_type": "markdown",
      "metadata": {
        "id": "aqzhL8STqaMX"
      },
      "source": [
        "## **Scrapping Genres**"
      ]
    },
    {
      "cell_type": "code",
      "execution_count": null,
      "metadata": {
        "colab": {
          "base_uri": "https://localhost:8080/"
        },
        "id": "NYGVsfKjrDWr",
        "outputId": "a4f9e5c4-5563-495a-d4f6-7e0a0c231ce2"
      },
      "outputs": [
        {
          "name": "stdout",
          "output_type": "stream",
          "text": [
            "100\n",
            "['Comedy, Science-Fiction, Fantasy, Action & Adventure', 'Romance, Science-Fiction, Comedy, Drama', 'Drama, History', 'Mystery & Thriller, War & Military, Action & Adventure', 'Mystery & Thriller, Crime, Drama', 'Horror, Mystery & Thriller', 'Comedy, Science-Fiction, Drama, Romance', 'Crime, Drama, Action & Adventure, Mystery & Thriller', 'Science-Fiction, Action & Adventure, Drama', 'Mystery & Thriller', 'Romance, Comedy', 'Mystery & Thriller, Action & Adventure', 'Drama', 'Comedy, Romance', 'Comedy, Crime, Mystery & Thriller, Romance', 'Comedy, Drama', 'Action & Adventure, Science-Fiction, Drama', 'Drama', 'Horror, Mystery & Thriller', 'Action & Adventure, Animation, Comedy, Kids & Family, Fantasy', 'Action & Adventure, Drama, Mystery & Thriller', 'Drama, War & Military, History', 'Drama, Mystery & Thriller', 'Science-Fiction, Mystery & Thriller, Action & Adventure, Fantasy', 'Drama, Action & Adventure, Mystery & Thriller', 'Fantasy, Action & Adventure, Science-Fiction, Mystery & Thriller', 'Comedy, Drama, Action & Adventure', 'Action & Adventure, Crime, Drama, Mystery & Thriller', 'Action & Adventure, Mystery & Thriller', 'Drama, Romance, Made in Europe', 'Fantasy, Animation, Action & Adventure, Comedy, Kids & Family', 'Crime, Drama, Mystery & Thriller', 'Mystery & Thriller, Crime, Drama', 'Drama', 'Action & Adventure, Fantasy, Science-Fiction', 'Action & Adventure, Science-Fiction, Mystery & Thriller', '', 'Drama, Romance', 'Science-Fiction, Horror, Action & Adventure, Drama', 'Drama, History, Sport', 'Mystery & Thriller, Drama', 'Drama, Comedy', 'Drama', 'Action & Adventure, Mystery & Thriller', 'Drama, Crime, Mystery & Thriller', 'Animation, Action & Adventure, Comedy, Kids & Family', 'Comedy, Crime, Romance, Action & Adventure, Mystery & Thriller', 'Drama, Comedy', 'Drama, Action & Adventure', 'Action & Adventure, Fantasy', 'Action & Adventure, Fantasy, Kids & Family', 'War & Military, Mystery & Thriller, Action & Adventure, Drama', 'Action & Adventure, Comedy', 'Drama, History', 'Comedy, Drama, Romance, Kids & Family', 'Action & Adventure, Mystery & Thriller, Drama', 'Action & Adventure, Crime, Comedy', 'Action & Adventure, Drama, Mystery & Thriller', 'Action & Adventure, Mystery & Thriller, Drama', 'Comedy, Drama, Fantasy, Science-Fiction', 'Mystery & Thriller, Made in Europe', 'Comedy, Drama, Fantasy', 'Animation, Kids & Family, Comedy, Fantasy, Action & Adventure, Drama', 'Comedy, Action & Adventure, Fantasy', 'Crime, Drama, Comedy', 'Science-Fiction, Action & Adventure', 'Action & Adventure, Mystery & Thriller, Sport', 'Drama', 'Drama, Action & Adventure, Sport, Made in Europe', 'Action & Adventure, Crime, Drama, Mystery & Thriller', 'Drama, History', 'Action & Adventure, Drama, Science-Fiction', 'Reality TV', 'Comedy, Action & Adventure, Drama', 'Kids & Family, Action & Adventure, Animation, Comedy, Fantasy', 'Drama, History, War & Military', 'Comedy, Drama', 'Science-Fiction, Action & Adventure, Fantasy', 'Action & Adventure, Fantasy, Science-Fiction', 'Drama, Crime, History, Romance, Western', 'Drama, Mystery & Thriller, Action & Adventure, Crime', 'Comedy, Horror, Fantasy', 'Drama, Action & Adventure, Science-Fiction, Mystery & Thriller', 'History, Comedy, Drama', 'Mystery & Thriller, Action & Adventure, Comedy', 'Drama, Mystery & Thriller, Crime', 'Crime, Drama, Mystery & Thriller', 'Drama, Action & Adventure', 'Fantasy, Horror, Drama, Mystery & Thriller, Made in Europe', 'Comedy', 'Comedy, Drama, Kids & Family, Romance', 'Action & Adventure, Science-Fiction, Fantasy', 'Fantasy, Action & Adventure, Drama, Science-Fiction', 'Mystery & Thriller, Action & Adventure, Drama, War & Military', 'Action & Adventure, Drama, History, War & Military', 'Drama, Romance, Comedy, Music & Musical', 'Drama, Kids & Family, Romance, Action & Adventure, Comedy', 'Fantasy, Action & Adventure, Mystery & Thriller', 'Mystery & Thriller, Crime, Action & Adventure', 'Drama, Mystery & Thriller, Crime, Horror']\n"
          ]
        }
      ],
      "source": [
        "#  Write Your Code here\n",
        "movie_genre_list= []\n",
        "for movie_data in movies_data:\n",
        "  movie_genres = movie_data.find(\"h3\", class_=\"detail-infos__subheading\", string=\"Genres\").find_next_sibling(\"div\").text\n",
        "  movie_genre_list.append(movie_genres)\n",
        "print(len(movie_genre_list))\n",
        "print(movie_genre_list)"
      ]
    },
    {
      "cell_type": "markdown",
      "metadata": {
        "id": "UOof6-0xFuf6"
      },
      "source": [
        "## **Scrapping IMBD Rating**"
      ]
    },
    {
      "cell_type": "code",
      "execution_count": null,
      "metadata": {
        "colab": {
          "base_uri": "https://localhost:8080/"
        },
        "id": "gW467MLx6aCH",
        "outputId": "570ad545-f4c4-49d0-eb9d-b07d576e6451"
      },
      "outputs": [
        {
          "name": "stdout",
          "output_type": "stream",
          "text": [
            "100\n",
            "['8.0', '6.5', '8.3', '6.4', '7.7', '8.0', '7.9', '6.2', '8.0', '8.7', '8.3', '6.2', '9.0', '6.2', '6.5', '7.8', '8.8', '8.3', '7.8', '7.6', '8.2', '7.8', '7.0', '6.5', '6.4', '3.8', '8.4', '6.5', '6.4', '3.3', '6.4', '7.5', '6.6', '7.0', '5.6', '6.3', '8.3', '7.1', '8.3', '6.5', '7.0', '6.7', '7.0', '6.0', '8.4', '6.7', '7.2', '7.9', '8.8', '6.1', '7.6', '5.2', '5.4', '7.3', '6.8', '6.3', '7.8', '5.2', '7.0', '6.2', '6.5', '7.9', '7.3', '6.8', '8.2', '6.0', '6.5', '6.6', '8.1', '8.3', '7.8', '8.7', '4.9', '5.1', '7.1', '7.5', '7.6', '6.0', '6.6', '7.6', '7.6', '6.9', '6.4', '7.4', '5.7', '6.7', '6.3', '5.3', '8.2', '7.8', '6.5', '8.2', '4.4', '6.5', '8.2', '8.0', '5.4', '6.3', '7.4', '7.4']\n"
          ]
        }
      ],
      "source": [
        "#  Write Your Code here\n",
        "rating_list =[]\n",
        "for movie_data in movies_data:\n",
        "  try:\n",
        "    movie_rating = movie_data.find_all(\"div\", class_= \"jw-scoring-listing__rating\")[1].span.span.text[1:4]\n",
        "  except IndexError:\n",
        "    movie_rating = 'NaN'\n",
        "  rating_list.append(movie_rating)\n",
        "\n",
        "print(len(rating_list))\n",
        "print(rating_list)"
      ]
    },
    {
      "cell_type": "markdown",
      "metadata": {
        "id": "8CHiu0A5RAuM"
      },
      "source": [
        "## **Scrapping Runtime/Duration**"
      ]
    },
    {
      "cell_type": "code",
      "execution_count": null,
      "metadata": {
        "colab": {
          "base_uri": "https://localhost:8080/"
        },
        "id": "si_yaGO8OTBo",
        "outputId": "15e77e52-62f1-4ffe-df12-ba264844e950"
      },
      "outputs": [
        {
          "name": "stdout",
          "output_type": "stream",
          "text": [
            "100\n",
            "['2h 39min', '2h 21min', '3h 0min', '2h 47min', '2h 32min', '2h 19min', '2h 21min', '3h 21min', '2h 35min', '2h 15min', '2h 36min', '2h 1min', '2h 27min', '1h 43min', '2h 22min', '1h 58min', '2h 47min', '2h 19min', '2h 10min', '1h 33min', '2h 38min', '2h 30min', '2h 23min', '1h 55min', '1h 45min', '1h 56min', '2h 2min', '2h 55min', '2h 39min', '1h 54min', '1h 34min', '2h 22min', '2h 23min', '2h 18min', '2h 4min', '1h 54min', '2h 23min', '2h 25min', '2h 5min', '2h 11min', '2h 27min', '2h 40min', '2h 19min', '2h 24min', '2h 2min', '1h 23min', '2h 1min', '2h 13min', '2h 52min', '1h 50min', '2h 32min', '2h 10min', '2h 7min', '2h 9min', '2h 20min', '2h 10min', '1h 53min', '2h 34min', '2h 49min', '2h 24min', '1h 25min', '2h 35min', '1h 31min', '1h 54min', '3h 0min', '2h 35min', '2h 34min', '1h 43min', '2h 3min', '2h 46min', '2h 56min', '2h 49min', '2h 30min', '2h 5min', '1h 35min', '1h 46min', '1h 57min', '2h 12min', '1h 58min', '3h 26min', '2h 59min', '1h 42min', '2h 3min', '2h 0min', '2h 19min', '1h 37min', '2h 10min', '2h 39min', '1h 53min', '2h 22min', '2h 48min', '2h 28min', '1h 53min', '2h 37min', '2h 18min', '2h 8min', '2h 39min', '1h 58min', '1h 36min', '2h 5min']\n"
          ]
        }
      ],
      "source": [
        "#  Write Your Code here\n",
        "runtime_list = []\n",
        "for movie_data in movies_data:\n",
        "  movie_runtime = movie_data.find(\"h3\", class_=\"detail-infos__subheading\", string=\"Runtime\").find_next_sibling(\"div\").text\n",
        "  runtime_list.append(movie_runtime)\n",
        "\n",
        "print(len(runtime_list))\n",
        "print(runtime_list)"
      ]
    },
    {
      "cell_type": "markdown",
      "metadata": {
        "id": "edb4gsNcRJQN"
      },
      "source": [
        "## **Scrapping Age Rating**"
      ]
    },
    {
      "cell_type": "code",
      "execution_count": null,
      "metadata": {
        "colab": {
          "base_uri": "https://localhost:8080/"
        },
        "id": "ZsHskhOcNAUj",
        "outputId": "9e032b31-96d5-4307-9d51-860f5f33d8e8"
      },
      "outputs": [
        {
          "name": "stdout",
          "output_type": "stream",
          "text": [
            "100\n",
            "['UA', 'NaN', 'UA', 'UA', 'NaN', 'UA', 'A', 'A', 'UA', 'UA', 'U', 'NaN', 'NaN', 'NaN', 'NaN', 'UA', 'NaN', 'UA', 'UA', 'U', 'UA', 'UA', 'NaN', 'UA', 'NaN', 'NaN', 'NaN', 'A', 'UA', 'NaN', 'NaN', 'NaN', 'NaN', 'A', 'NaN', 'UA', 'UA', 'NaN', 'NaN', 'NaN', 'A', 'UA', 'UA', 'NaN', 'A', 'U', 'UA', 'NaN', 'UA', 'NaN', 'U', 'NaN', 'NaN', 'A', 'UA', 'NaN', 'A', 'NaN', 'UA', 'U', 'U', 'NaN', 'U', 'UA', 'A', 'NaN', 'NaN', 'NaN', 'UA', 'UA', 'NaN', 'NaN', 'NaN', 'U', 'NaN', 'UA', 'NaN', 'UA', 'NaN', 'A', 'UA', 'NaN', 'NaN', 'NaN', 'NaN', 'NaN', 'UA', 'UA', 'A', 'U', 'NaN', 'UA', 'NaN', 'UA', 'UA', 'A', 'NaN', 'NaN', 'NaN', 'A']\n"
          ]
        }
      ],
      "source": [
        "#  Write Your Code here\n",
        "age_rating_list= []\n",
        "for movie_data in movies_data:\n",
        "  try:\n",
        "    movie_age_rating = movie_data.find(\"h3\", class_ = \"detail-infos__subheading\", string = \"Age rating\").find_next_sibling(\"div\").text\n",
        "    # print(movie_age_rating)\n",
        "  except AttributeError:\n",
        "    movie_age_rating = \"NaN\"\n",
        "\n",
        "  age_rating_list.append(movie_age_rating)\n",
        "\n",
        "print(len(age_rating_list))\n",
        "print(age_rating_list)"
      ]
    },
    {
      "cell_type": "markdown",
      "metadata": {
        "id": "_RI5FD3CqFVV"
      },
      "source": [
        "## **Fetching Production Countries Details**"
      ]
    },
    {
      "cell_type": "code",
      "execution_count": null,
      "metadata": {
        "colab": {
          "base_uri": "https://localhost:8080/"
        },
        "id": "ai6YOgZmYIcc",
        "outputId": "dd49dbfa-1cca-4827-bf6d-cde24b079a2e"
      },
      "outputs": [
        {
          "name": "stdout",
          "output_type": "stream",
          "text": [
            "100\n",
            "['India', 'India', 'United Kingdom, United States', 'India', 'France', 'India', 'Ireland, United Kingdom, United States', 'India', 'United States', 'India', 'India', 'United States', 'India', 'Australia, United States', 'India', 'India', 'United States', 'India', 'India', 'United States', 'India', 'India', 'India', 'United States, Australia', 'United States, United Kingdom', 'United States', 'India', 'India', 'India', 'Poland', 'United States', 'India', 'India', 'India', 'United States', 'United States', 'India', 'India', 'Japan', 'United Kingdom, United States', 'India', 'India', 'India', 'India', 'Canada, United States', 'United States', 'India', 'United States', 'United States, India', 'United States', 'United States, United Kingdom', 'India', 'India', 'Japan, United States', 'India', 'India, United States', 'United Kingdom, United States', 'India', 'India', 'India', 'United States', 'India', 'United States', 'United Kingdom, United States', 'United States', 'India', 'India', 'United Kingdom', 'Germany, United Kingdom, United States', 'India', 'India', 'United Kingdom, United States', 'India', 'India', 'China, United States', 'United Kingdom, United States, Poland', 'United States', 'United States, China, Japan', 'China, United States', 'United States', 'India', 'United States', 'United States', 'Canada', 'United Kingdom, United States', 'United States', 'India', 'India', 'Sweden, India', 'India', 'India', 'United States', 'Japan, United States', 'India', 'India', 'Hong Kong, United States', 'India', 'Japan, United Kingdom, United States', 'United States', 'India']\n"
          ]
        }
      ],
      "source": [
        "#  Write Your Code here\n",
        "country_list= []\n",
        "for movie_data in movies_data:\n",
        "  movie_country = movie_data.find(\"h3\", class_=\"detail-infos__subheading\", string=\" Production country \").find_next_sibling(\"div\").text\n",
        "  country_list.append(movie_country)\n",
        "\n",
        "print(len(country_list))\n",
        "print(country_list)"
      ]
    },
    {
      "cell_type": "markdown",
      "metadata": {
        "id": "IrJlIsBWrO2r"
      },
      "source": [
        "## **Fetching Streaming Service Details**"
      ]
    },
    {
      "cell_type": "code",
      "execution_count": null,
      "metadata": {
        "colab": {
          "base_uri": "https://localhost:8080/"
        },
        "id": "Yk72jDLZu7EZ",
        "outputId": "a9c6c6c6-2647-45f3-a471-b2f7053a8685"
      },
      "outputs": [
        {
          "name": "stdout",
          "output_type": "stream",
          "text": [
            "100\n",
            "['Jio Cinema, Zee5', 'Amazon Prime Video', 'Apple TV', 'Netflix', 'Amazon Prime Video', 'Sony Liv', 'Apple TV', 'Netflix', 'Apple TV', 'Bookmyshow', 'aha', 'Amazon Prime Video', 'Hotstar', 'Apple TV', 'Netflix', 'Bookmyshow', 'Bookmyshow', 'Amazon Prime Video', 'NaN', 'Apple TV', 'NaN', 'Zee5', 'Netflix', 'Bookmyshow', 'NaN', 'Apple TV', 'Bookmyshow', 'Netflix', 'Amazon Prime Video', 'Netflix', 'Bookmyshow', 'Netflix', 'NaN', 'Zee5', 'Apple TV', 'Amazon Prime Video', 'NaN', 'NaN', 'NaN', 'Amazon Prime Video', 'Zee5', 'Netflix', 'Zee5', 'Amazon Prime Video', 'Amazon Prime Video', 'Apple TV', 'Sony Liv, aha', 'Apple TV', 'NaN', 'Netflix', 'Apple TV', 'Amazon Prime Video', 'Amazon Prime Video', 'Apple TV', 'NaN', 'NaN', 'Lionsgate Play, Lionsgate Play Apple TV Channel, Lionsgate Play Amazon Channel', 'Netflix', 'Apple TV', 'Amazon Prime Video', 'Netflix', 'Bookmyshow', 'Apple TV', 'Apple TV', 'Lionsgate Play, Lionsgate Play Apple TV Channel, Lionsgate Play Amazon Channel', 'Sun Nxt', 'Bookmyshow', 'Netflix', 'NaN', 'Amazon Prime Video', 'Bookmyshow', 'Amazon Prime Video', 'Amazon Prime Video', 'Netflix', 'Apple TV', 'NaN', 'Amazon Prime Video', 'Amazon Prime Video', 'Apple TV', 'Apple TV Plus', 'Amazon Prime Video', 'Lionsgate Play', 'Amazon Prime Video', 'Amazon Prime Video', 'Apple TV Plus', 'Netflix', 'Zee5', 'Netflix', 'NaN', 'Amazon Prime Video', 'Amazon Prime Video', 'Apple TV', 'Apple TV', 'Amazon Prime Video', 'Zee5', 'Apple TV', 'NaN', 'Amazon Prime Video', 'Apple TV', 'NaN']\n"
          ]
        }
      ],
      "source": [
        "#  Write Your Code here\n",
        "Streaming_Service_lists = []\n",
        "for movie_data in movies_data:\n",
        "  try:\n",
        "    movie_streaming_services_list = movie_data.find(\"div\", class_= \"buybox-row__offers\").find_all(\"img\", class_= \"offer__icon\")\n",
        "    movie_streaming_services = [alt_value[\"alt\"] for alt_value in movie_streaming_services_list]\n",
        "    stream_service = (\", \".join(movie_streaming_services))\n",
        "  except AttributeError:\n",
        "    stream_service = \"NaN\"\n",
        "  Streaming_Service_lists.append(stream_service)\n",
        "\n",
        "print(len(Streaming_Service_lists))\n",
        "print(Streaming_Service_lists)"
      ]
    },
    {
      "cell_type": "markdown",
      "metadata": {
        "id": "Mnh22VX_7f6K"
      },
      "source": [
        "## **Now Creating Movies DataFrame**"
      ]
    },
    {
      "cell_type": "code",
      "execution_count": null,
      "metadata": {
        "colab": {
          "base_uri": "https://localhost:8080/",
          "height": 310
        },
        "id": "i7XQUICP5oBI",
        "outputId": "e4e7c578-24af-4ac0-c975-d448e5d4e6a7"
      },
      "outputs": [
        {
          "data": {
            "application/vnd.google.colaboratory.intrinsic+json": {
              "summary": "{\n  \"name\": \"movie_df\",\n  \"rows\": 100,\n  \"fields\": [\n    {\n      \"column\": \"Title\",\n      \"properties\": {\n        \"dtype\": \"string\",\n        \"num_unique_values\": 100,\n        \"samples\": [\n          \"BlackBerry\",\n          \"She Said\",\n          \"Swatantra Veer Savarkar\"\n        ],\n        \"semantic_type\": \"\",\n        \"description\": \"\"\n      }\n    },\n    {\n      \"column\": \"Release Year\",\n      \"properties\": {\n        \"dtype\": \"object\",\n        \"num_unique_values\": 15,\n        \"samples\": [\n          \"2011\",\n          \"2014\",\n          \"2024\"\n        ],\n        \"semantic_type\": \"\",\n        \"description\": \"\"\n      }\n    },\n    {\n      \"column\": \"IMDB Rating\",\n      \"properties\": {\n        \"dtype\": \"category\",\n        \"num_unique_values\": 38,\n        \"samples\": [\n          \"6.9\",\n          \"5.3\",\n          \"7.7\"\n        ],\n        \"semantic_type\": \"\",\n        \"description\": \"\"\n      }\n    },\n    {\n      \"column\": \"Genre\",\n      \"properties\": {\n        \"dtype\": \"string\",\n        \"num_unique_values\": 83,\n        \"samples\": [\n          \"Action & Adventure, Fantasy, Science-Fiction\",\n          \"Comedy, Science-Fiction, Fantasy, Action & Adventure\",\n          \"Drama, Action & Adventure, Mystery & Thriller\"\n        ],\n        \"semantic_type\": \"\",\n        \"description\": \"\"\n      }\n    },\n    {\n      \"column\": \"Runtime\",\n      \"properties\": {\n        \"dtype\": \"string\",\n        \"num_unique_values\": 63,\n        \"samples\": [\n          \"2h 8min\",\n          \"1h 37min\",\n          \"2h 39min\"\n        ],\n        \"semantic_type\": \"\",\n        \"description\": \"\"\n      }\n    },\n    {\n      \"column\": \"Age rating\",\n      \"properties\": {\n        \"dtype\": \"category\",\n        \"num_unique_values\": 4,\n        \"samples\": [\n          \"NaN\",\n          \"U\",\n          \"UA\"\n        ],\n        \"semantic_type\": \"\",\n        \"description\": \"\"\n      }\n    },\n    {\n      \"column\": \"production details\",\n      \"properties\": {\n        \"dtype\": \"category\",\n        \"num_unique_values\": 23,\n        \"samples\": [\n          \"Germany, United Kingdom, United States\",\n          \"Japan\",\n          \"India\"\n        ],\n        \"semantic_type\": \"\",\n        \"description\": \"\"\n      }\n    },\n    {\n      \"column\": \"streaming details\",\n      \"properties\": {\n        \"dtype\": \"category\",\n        \"num_unique_values\": 15,\n        \"samples\": [\n          \"Zee5\",\n          \"Lionsgate Play, Lionsgate Play Apple TV Channel, Lionsgate Play Amazon Channel\",\n          \"Jio Cinema, Zee5\"\n        ],\n        \"semantic_type\": \"\",\n        \"description\": \"\"\n      }\n    },\n    {\n      \"column\": \"Type\",\n      \"properties\": {\n        \"dtype\": \"category\",\n        \"num_unique_values\": 1,\n        \"samples\": [\n          \"Movie\"\n        ],\n        \"semantic_type\": \"\",\n        \"description\": \"\"\n      }\n    },\n    {\n      \"column\": \"URL_Movies\",\n      \"properties\": {\n        \"dtype\": \"string\",\n        \"num_unique_values\": 100,\n        \"samples\": [\n          \"https://www.justwatch.com/in/movie/blackberry\"\n        ],\n        \"semantic_type\": \"\",\n        \"description\": \"\"\n      }\n    }\n  ]\n}",
              "type": "dataframe",
              "variable_name": "movie_df"
            },
            "text/html": [
              "\n",
              "  <div id=\"df-a1e59555-18a8-4773-9085-a00b6d4c2278\" class=\"colab-df-container\">\n",
              "    <div>\n",
              "<style scoped>\n",
              "    .dataframe tbody tr th:only-of-type {\n",
              "        vertical-align: middle;\n",
              "    }\n",
              "\n",
              "    .dataframe tbody tr th {\n",
              "        vertical-align: top;\n",
              "    }\n",
              "\n",
              "    .dataframe thead th {\n",
              "        text-align: right;\n",
              "    }\n",
              "</style>\n",
              "<table border=\"1\" class=\"dataframe\">\n",
              "  <thead>\n",
              "    <tr style=\"text-align: right;\">\n",
              "      <th></th>\n",
              "      <th>Title</th>\n",
              "      <th>Release Year</th>\n",
              "      <th>IMDB Rating</th>\n",
              "      <th>Genre</th>\n",
              "      <th>Runtime</th>\n",
              "      <th>Age rating</th>\n",
              "      <th>production details</th>\n",
              "      <th>streaming details</th>\n",
              "      <th>Type</th>\n",
              "      <th>URL_Movies</th>\n",
              "    </tr>\n",
              "  </thead>\n",
              "  <tbody>\n",
              "    <tr>\n",
              "      <th>0</th>\n",
              "      <td>Hanu-Man</td>\n",
              "      <td>2024</td>\n",
              "      <td>8.0</td>\n",
              "      <td>Comedy, Science-Fiction, Fantasy, Action &amp; Adv...</td>\n",
              "      <td>2h 39min</td>\n",
              "      <td>UA</td>\n",
              "      <td>India</td>\n",
              "      <td>Jio Cinema, Zee5</td>\n",
              "      <td>Movie</td>\n",
              "      <td>https://www.justwatch.com/in/movie/hanu-man</td>\n",
              "    </tr>\n",
              "    <tr>\n",
              "      <th>1</th>\n",
              "      <td>Teri Baaton Mein Aisa Uljha Jiya</td>\n",
              "      <td>2024</td>\n",
              "      <td>6.5</td>\n",
              "      <td>Romance, Science-Fiction, Comedy, Drama</td>\n",
              "      <td>2h 21min</td>\n",
              "      <td>NaN</td>\n",
              "      <td>India</td>\n",
              "      <td>Amazon Prime Video</td>\n",
              "      <td>Movie</td>\n",
              "      <td>https://www.justwatch.com/in/movie/untitled-sh...</td>\n",
              "    </tr>\n",
              "    <tr>\n",
              "      <th>2</th>\n",
              "      <td>Oppenheimer</td>\n",
              "      <td>2023</td>\n",
              "      <td>8.3</td>\n",
              "      <td>Drama, History</td>\n",
              "      <td>3h 0min</td>\n",
              "      <td>UA</td>\n",
              "      <td>United Kingdom, United States</td>\n",
              "      <td>Apple TV</td>\n",
              "      <td>Movie</td>\n",
              "      <td>https://www.justwatch.com/in/movie/oppenheimer</td>\n",
              "    </tr>\n",
              "    <tr>\n",
              "      <th>3</th>\n",
              "      <td>Fighter</td>\n",
              "      <td>2024</td>\n",
              "      <td>6.4</td>\n",
              "      <td>Mystery &amp; Thriller, War &amp; Military, Action &amp; A...</td>\n",
              "      <td>2h 47min</td>\n",
              "      <td>UA</td>\n",
              "      <td>India</td>\n",
              "      <td>Netflix</td>\n",
              "      <td>Movie</td>\n",
              "      <td>https://www.justwatch.com/in/movie/fighter-2022</td>\n",
              "    </tr>\n",
              "    <tr>\n",
              "      <th>4</th>\n",
              "      <td>Anatomy of a Fall</td>\n",
              "      <td>2023</td>\n",
              "      <td>7.7</td>\n",
              "      <td>Mystery &amp; Thriller, Crime, Drama</td>\n",
              "      <td>2h 32min</td>\n",
              "      <td>NaN</td>\n",
              "      <td>France</td>\n",
              "      <td>Amazon Prime Video</td>\n",
              "      <td>Movie</td>\n",
              "      <td>https://www.justwatch.com/in/movie/anatomie-du...</td>\n",
              "    </tr>\n",
              "  </tbody>\n",
              "</table>\n",
              "</div>\n",
              "    <div class=\"colab-df-buttons\">\n",
              "\n",
              "  <div class=\"colab-df-container\">\n",
              "    <button class=\"colab-df-convert\" onclick=\"convertToInteractive('df-a1e59555-18a8-4773-9085-a00b6d4c2278')\"\n",
              "            title=\"Convert this dataframe to an interactive table.\"\n",
              "            style=\"display:none;\">\n",
              "\n",
              "  <svg xmlns=\"http://www.w3.org/2000/svg\" height=\"24px\" viewBox=\"0 -960 960 960\">\n",
              "    <path d=\"M120-120v-720h720v720H120Zm60-500h600v-160H180v160Zm220 220h160v-160H400v160Zm0 220h160v-160H400v160ZM180-400h160v-160H180v160Zm440 0h160v-160H620v160ZM180-180h160v-160H180v160Zm440 0h160v-160H620v160Z\"/>\n",
              "  </svg>\n",
              "    </button>\n",
              "\n",
              "  <style>\n",
              "    .colab-df-container {\n",
              "      display:flex;\n",
              "      gap: 12px;\n",
              "    }\n",
              "\n",
              "    .colab-df-convert {\n",
              "      background-color: #E8F0FE;\n",
              "      border: none;\n",
              "      border-radius: 50%;\n",
              "      cursor: pointer;\n",
              "      display: none;\n",
              "      fill: #1967D2;\n",
              "      height: 32px;\n",
              "      padding: 0 0 0 0;\n",
              "      width: 32px;\n",
              "    }\n",
              "\n",
              "    .colab-df-convert:hover {\n",
              "      background-color: #E2EBFA;\n",
              "      box-shadow: 0px 1px 2px rgba(60, 64, 67, 0.3), 0px 1px 3px 1px rgba(60, 64, 67, 0.15);\n",
              "      fill: #174EA6;\n",
              "    }\n",
              "\n",
              "    .colab-df-buttons div {\n",
              "      margin-bottom: 4px;\n",
              "    }\n",
              "\n",
              "    [theme=dark] .colab-df-convert {\n",
              "      background-color: #3B4455;\n",
              "      fill: #D2E3FC;\n",
              "    }\n",
              "\n",
              "    [theme=dark] .colab-df-convert:hover {\n",
              "      background-color: #434B5C;\n",
              "      box-shadow: 0px 1px 3px 1px rgba(0, 0, 0, 0.15);\n",
              "      filter: drop-shadow(0px 1px 2px rgba(0, 0, 0, 0.3));\n",
              "      fill: #FFFFFF;\n",
              "    }\n",
              "  </style>\n",
              "\n",
              "    <script>\n",
              "      const buttonEl =\n",
              "        document.querySelector('#df-a1e59555-18a8-4773-9085-a00b6d4c2278 button.colab-df-convert');\n",
              "      buttonEl.style.display =\n",
              "        google.colab.kernel.accessAllowed ? 'block' : 'none';\n",
              "\n",
              "      async function convertToInteractive(key) {\n",
              "        const element = document.querySelector('#df-a1e59555-18a8-4773-9085-a00b6d4c2278');\n",
              "        const dataTable =\n",
              "          await google.colab.kernel.invokeFunction('convertToInteractive',\n",
              "                                                    [key], {});\n",
              "        if (!dataTable) return;\n",
              "\n",
              "        const docLinkHtml = 'Like what you see? Visit the ' +\n",
              "          '<a target=\"_blank\" href=https://colab.research.google.com/notebooks/data_table.ipynb>data table notebook</a>'\n",
              "          + ' to learn more about interactive tables.';\n",
              "        element.innerHTML = '';\n",
              "        dataTable['output_type'] = 'display_data';\n",
              "        await google.colab.output.renderOutput(dataTable, element);\n",
              "        const docLink = document.createElement('div');\n",
              "        docLink.innerHTML = docLinkHtml;\n",
              "        element.appendChild(docLink);\n",
              "      }\n",
              "    </script>\n",
              "  </div>\n",
              "\n",
              "\n",
              "<div id=\"df-2b3dacd5-8b69-471c-b10a-7568b5588a5f\">\n",
              "  <button class=\"colab-df-quickchart\" onclick=\"quickchart('df-2b3dacd5-8b69-471c-b10a-7568b5588a5f')\"\n",
              "            title=\"Suggest charts\"\n",
              "            style=\"display:none;\">\n",
              "\n",
              "<svg xmlns=\"http://www.w3.org/2000/svg\" height=\"24px\"viewBox=\"0 0 24 24\"\n",
              "     width=\"24px\">\n",
              "    <g>\n",
              "        <path d=\"M19 3H5c-1.1 0-2 .9-2 2v14c0 1.1.9 2 2 2h14c1.1 0 2-.9 2-2V5c0-1.1-.9-2-2-2zM9 17H7v-7h2v7zm4 0h-2V7h2v10zm4 0h-2v-4h2v4z\"/>\n",
              "    </g>\n",
              "</svg>\n",
              "  </button>\n",
              "\n",
              "<style>\n",
              "  .colab-df-quickchart {\n",
              "      --bg-color: #E8F0FE;\n",
              "      --fill-color: #1967D2;\n",
              "      --hover-bg-color: #E2EBFA;\n",
              "      --hover-fill-color: #174EA6;\n",
              "      --disabled-fill-color: #AAA;\n",
              "      --disabled-bg-color: #DDD;\n",
              "  }\n",
              "\n",
              "  [theme=dark] .colab-df-quickchart {\n",
              "      --bg-color: #3B4455;\n",
              "      --fill-color: #D2E3FC;\n",
              "      --hover-bg-color: #434B5C;\n",
              "      --hover-fill-color: #FFFFFF;\n",
              "      --disabled-bg-color: #3B4455;\n",
              "      --disabled-fill-color: #666;\n",
              "  }\n",
              "\n",
              "  .colab-df-quickchart {\n",
              "    background-color: var(--bg-color);\n",
              "    border: none;\n",
              "    border-radius: 50%;\n",
              "    cursor: pointer;\n",
              "    display: none;\n",
              "    fill: var(--fill-color);\n",
              "    height: 32px;\n",
              "    padding: 0;\n",
              "    width: 32px;\n",
              "  }\n",
              "\n",
              "  .colab-df-quickchart:hover {\n",
              "    background-color: var(--hover-bg-color);\n",
              "    box-shadow: 0 1px 2px rgba(60, 64, 67, 0.3), 0 1px 3px 1px rgba(60, 64, 67, 0.15);\n",
              "    fill: var(--button-hover-fill-color);\n",
              "  }\n",
              "\n",
              "  .colab-df-quickchart-complete:disabled,\n",
              "  .colab-df-quickchart-complete:disabled:hover {\n",
              "    background-color: var(--disabled-bg-color);\n",
              "    fill: var(--disabled-fill-color);\n",
              "    box-shadow: none;\n",
              "  }\n",
              "\n",
              "  .colab-df-spinner {\n",
              "    border: 2px solid var(--fill-color);\n",
              "    border-color: transparent;\n",
              "    border-bottom-color: var(--fill-color);\n",
              "    animation:\n",
              "      spin 1s steps(1) infinite;\n",
              "  }\n",
              "\n",
              "  @keyframes spin {\n",
              "    0% {\n",
              "      border-color: transparent;\n",
              "      border-bottom-color: var(--fill-color);\n",
              "      border-left-color: var(--fill-color);\n",
              "    }\n",
              "    20% {\n",
              "      border-color: transparent;\n",
              "      border-left-color: var(--fill-color);\n",
              "      border-top-color: var(--fill-color);\n",
              "    }\n",
              "    30% {\n",
              "      border-color: transparent;\n",
              "      border-left-color: var(--fill-color);\n",
              "      border-top-color: var(--fill-color);\n",
              "      border-right-color: var(--fill-color);\n",
              "    }\n",
              "    40% {\n",
              "      border-color: transparent;\n",
              "      border-right-color: var(--fill-color);\n",
              "      border-top-color: var(--fill-color);\n",
              "    }\n",
              "    60% {\n",
              "      border-color: transparent;\n",
              "      border-right-color: var(--fill-color);\n",
              "    }\n",
              "    80% {\n",
              "      border-color: transparent;\n",
              "      border-right-color: var(--fill-color);\n",
              "      border-bottom-color: var(--fill-color);\n",
              "    }\n",
              "    90% {\n",
              "      border-color: transparent;\n",
              "      border-bottom-color: var(--fill-color);\n",
              "    }\n",
              "  }\n",
              "</style>\n",
              "\n",
              "  <script>\n",
              "    async function quickchart(key) {\n",
              "      const quickchartButtonEl =\n",
              "        document.querySelector('#' + key + ' button');\n",
              "      quickchartButtonEl.disabled = true;  // To prevent multiple clicks.\n",
              "      quickchartButtonEl.classList.add('colab-df-spinner');\n",
              "      try {\n",
              "        const charts = await google.colab.kernel.invokeFunction(\n",
              "            'suggestCharts', [key], {});\n",
              "      } catch (error) {\n",
              "        console.error('Error during call to suggestCharts:', error);\n",
              "      }\n",
              "      quickchartButtonEl.classList.remove('colab-df-spinner');\n",
              "      quickchartButtonEl.classList.add('colab-df-quickchart-complete');\n",
              "    }\n",
              "    (() => {\n",
              "      let quickchartButtonEl =\n",
              "        document.querySelector('#df-2b3dacd5-8b69-471c-b10a-7568b5588a5f button');\n",
              "      quickchartButtonEl.style.display =\n",
              "        google.colab.kernel.accessAllowed ? 'block' : 'none';\n",
              "    })();\n",
              "  </script>\n",
              "</div>\n",
              "\n",
              "    </div>\n",
              "  </div>\n"
            ],
            "text/plain": [
              "                              Title Release Year IMDB Rating  \\\n",
              "0                          Hanu-Man         2024         8.0   \n",
              "1  Teri Baaton Mein Aisa Uljha Jiya         2024         6.5   \n",
              "2                       Oppenheimer         2023         8.3   \n",
              "3                           Fighter         2024         6.4   \n",
              "4                 Anatomy of a Fall         2023         7.7   \n",
              "\n",
              "                                               Genre   Runtime Age rating  \\\n",
              "0  Comedy, Science-Fiction, Fantasy, Action & Adv...  2h 39min         UA   \n",
              "1            Romance, Science-Fiction, Comedy, Drama  2h 21min        NaN   \n",
              "2                                     Drama, History   3h 0min         UA   \n",
              "3  Mystery & Thriller, War & Military, Action & A...  2h 47min         UA   \n",
              "4                   Mystery & Thriller, Crime, Drama  2h 32min        NaN   \n",
              "\n",
              "              production details   streaming details   Type  \\\n",
              "0                          India    Jio Cinema, Zee5  Movie   \n",
              "1                          India  Amazon Prime Video  Movie   \n",
              "2  United Kingdom, United States            Apple TV  Movie   \n",
              "3                          India             Netflix  Movie   \n",
              "4                         France  Amazon Prime Video  Movie   \n",
              "\n",
              "                                          URL_Movies  \n",
              "0        https://www.justwatch.com/in/movie/hanu-man  \n",
              "1  https://www.justwatch.com/in/movie/untitled-sh...  \n",
              "2     https://www.justwatch.com/in/movie/oppenheimer  \n",
              "3    https://www.justwatch.com/in/movie/fighter-2022  \n",
              "4  https://www.justwatch.com/in/movie/anatomie-du...  "
            ]
          },
          "execution_count": 126,
          "metadata": {},
          "output_type": "execute_result"
        }
      ],
      "source": [
        "# Write Your Code here\n",
        "import pandas as pd\n",
        "movie_dict = {\"Title\": movie_title_list, \"Release Year\":releasing_year_list,\"IMDB Rating\": rating_list,\"Genre\": movie_genre_list,\n",
        "             \"Runtime\": runtime_list, \"Age rating\": age_rating_list, \"production details\":country_list,\n",
        "              \"streaming details\" :Streaming_Service_lists, \"Type\": \"Movie\", \"URL_Movies\": movie_url_list }\n",
        "movie_df= pd.DataFrame(movie_dict)\n",
        "movie_df.head(5)"
      ]
    },
    {
      "cell_type": "markdown",
      "metadata": {
        "id": "LYQ5acWzJRZr"
      },
      "source": [
        "## **Scraping TV  Show Data**"
      ]
    },
    {
      "cell_type": "code",
      "execution_count": 9,
      "metadata": {
        "id": "Xic8FWfwI6AT"
      },
      "outputs": [],
      "source": [
        "# Specifying the URL from which tv show related data will be fetched\n",
        "tv_url='https://www.justwatch.com/in/tv-shows?release_year_from=2000'\n",
        "# Sending an HTTP GET request to the URL\n",
        "page=requests.get(tv_url)\n",
        "# Parsing the HTML content using BeautifulSoup with the 'html.parser'\n",
        "soup_tv=BeautifulSoup(page.text,'html.parser')\n",
        "# Printing the prettified HTML content\n",
        "# print(soup_tv.prettify())"
      ]
    },
    {
      "cell_type": "markdown",
      "metadata": {
        "id": "ev-VUSNvJ-fJ"
      },
      "source": [
        "## **Fetching Tv shows Url details**"
      ]
    },
    {
      "cell_type": "code",
      "execution_count": null,
      "metadata": {
        "colab": {
          "base_uri": "https://localhost:8080/"
        },
        "id": "eMlwT4I-8gGh",
        "outputId": "e6f8b215-e16c-4a7a-b7b8-80f1d5d23920"
      },
      "outputs": [
        {
          "name": "stdout",
          "output_type": "stream",
          "text": [
            "100\n",
            "['https://www.justwatch.com/in/tv-show/shogun-2024', 'https://www.justwatch.com/in/tv-show/mirzapur', 'https://www.justwatch.com/in/tv-show/3-body-problem', 'https://www.justwatch.com/in/tv-show/panchayat', 'https://www.justwatch.com/in/tv-show/game-of-thrones', 'https://www.justwatch.com/in/tv-show/the-gentlemen', 'https://www.justwatch.com/in/tv-show/solo-leveling-2024', 'https://www.justwatch.com/in/tv-show/sunflower-2021', 'https://www.justwatch.com/in/tv-show/maharani-2021', 'https://www.justwatch.com/in/tv-show/maamla-legal-hai', 'https://www.justwatch.com/in/tv-show/apharan', 'https://www.justwatch.com/in/tv-show/attack-on-titan', 'https://www.justwatch.com/in/tv-show/inspector-rishi', 'https://www.justwatch.com/in/tv-show/invincible', 'https://www.justwatch.com/in/tv-show/ripley', 'https://www.justwatch.com/in/tv-show/jujutsu-kaisen', 'https://www.justwatch.com/in/tv-show/halo', 'https://www.justwatch.com/in/tv-show/save-the-tigers', 'https://www.justwatch.com/in/tv-show/young-sheldon', 'https://www.justwatch.com/in/tv-show/farzi', 'https://www.justwatch.com/in/tv-show/mastram', 'https://www.justwatch.com/in/tv-show/avatar-the-last-airbender', 'https://www.justwatch.com/in/tv-show/fallout', 'https://www.justwatch.com/in/tv-show/untitled-kapil-sharma-netflix-project', 'https://www.justwatch.com/in/tv-show/a-gentleman-in-moscow', 'https://www.justwatch.com/in/tv-show/queen-of-tears', 'https://www.justwatch.com/in/tv-show/true-detective', 'https://www.justwatch.com/in/tv-show/lootere', 'https://www.justwatch.com/in/tv-show/loki', 'https://www.justwatch.com/in/tv-show/parasyte-the-grey', 'https://www.justwatch.com/in/tv-show/jack-reacher', 'https://www.justwatch.com/in/tv-show/naruto', 'https://www.justwatch.com/in/tv-show/scam-1992', 'https://www.justwatch.com/in/tv-show/the-family-man', 'https://www.justwatch.com/in/tv-show/naruto-shippuden', 'https://www.justwatch.com/in/tv-show/gandii-baat', 'https://www.justwatch.com/in/tv-show/9-1-1', 'https://www.justwatch.com/in/tv-show/supersex', 'https://www.justwatch.com/in/tv-show/euphoria', 'https://www.justwatch.com/in/tv-show/yellowstone', 'https://www.justwatch.com/in/tv-show/paperhouse', 'https://www.justwatch.com/in/tv-show/gullak', 'https://www.justwatch.com/in/tv-show/house-of-the-dragon', 'https://www.justwatch.com/in/tv-show/under-the-dome', 'https://www.justwatch.com/in/tv-show/x-men-97', 'https://www.justwatch.com/in/tv-show/the-rookie', 'https://www.justwatch.com/in/tv-show/breaking-bad', 'https://www.justwatch.com/in/tv-show/turning-point-the-bomb-and-the-cold-war', 'https://www.justwatch.com/in/tv-show/lucifer', 'https://www.justwatch.com/in/tv-show/peaky-blinders', 'https://www.justwatch.com/in/tv-show/the-vampire-diaries', 'https://www.justwatch.com/in/tv-show/testament-the-story-of-moses', 'https://www.justwatch.com/in/tv-show/dehati-ladke', 'https://www.justwatch.com/in/tv-show/dark-desire', 'https://www.justwatch.com/in/tv-show/aashram', 'https://www.justwatch.com/in/tv-show/modern-family', 'https://www.justwatch.com/in/tv-show/greys-anatomy', 'https://www.justwatch.com/in/tv-show/the-good-doctor', 'https://www.justwatch.com/in/tv-show/manhunt-2024', 'https://www.justwatch.com/in/tv-show/asur', 'https://www.justwatch.com/in/tv-show/the-freelancer', 'https://www.justwatch.com/in/tv-show/the-flash', 'https://www.justwatch.com/in/tv-show/young-royals', 'https://www.justwatch.com/in/tv-show/aarya', 'https://www.justwatch.com/in/tv-show/spartacus', 'https://www.justwatch.com/in/tv-show/mashle-magic-and-muscles', 'https://www.justwatch.com/in/tv-show/stranger-things', 'https://www.justwatch.com/in/tv-show/the-last-of-us', 'https://www.justwatch.com/in/tv-show/playground', 'https://www.justwatch.com/in/tv-show/one-punch-man', 'https://www.justwatch.com/in/tv-show/person-of-interest', 'https://www.justwatch.com/in/tv-show/the-serpent', 'https://www.justwatch.com/in/tv-show/the-boys', 'https://www.justwatch.com/in/tv-show/fargo', 'https://www.justwatch.com/in/tv-show/the-legend-of-hanuman', 'https://www.justwatch.com/in/tv-show/monarch-legacy-of-monsters', 'https://www.justwatch.com/in/tv-show/tokyo-vice', 'https://www.justwatch.com/in/tv-show/american-horror-story', 'https://www.justwatch.com/in/tv-show/avatar-the-last-airbender-2005', 'https://www.justwatch.com/in/tv-show/candy-2021', 'https://www.justwatch.com/in/tv-show/shaitan', 'https://www.justwatch.com/in/tv-show/wecrashed', 'https://www.justwatch.com/in/tv-show/the-railway-men-the-untold-story-of-bhopal-1984', 'https://www.justwatch.com/in/tv-show/demon-slayer-kimetsu-no-yaiba', 'https://www.justwatch.com/in/tv-show/one-day', 'https://www.justwatch.com/in/tv-show/indian-police-force', 'https://www.justwatch.com/in/tv-show/sugar', 'https://www.justwatch.com/in/tv-show/files-of-the-unexplained', 'https://www.justwatch.com/in/tv-show/better-call-saul', 'https://www.justwatch.com/in/tv-show/from', 'https://www.justwatch.com/in/tv-show/bandidos', 'https://www.justwatch.com/in/tv-show/wonderful-world', 'https://www.justwatch.com/in/tv-show/masters-of-the-air', 'https://www.justwatch.com/in/tv-show/anthracite', 'https://www.justwatch.com/in/tv-show/big-girls-dont-cry-bgdc', 'https://www.justwatch.com/in/tv-show/succession', 'https://www.justwatch.com/in/tv-show/bigg-boss', 'https://www.justwatch.com/in/tv-show/lie-to-me', 'https://www.justwatch.com/in/tv-show/poacher', 'https://www.justwatch.com/in/tv-show/dexter']\n"
          ]
        }
      ],
      "source": [
        "# Write Your Code here\n",
        "Tv_shows_Url = []\n",
        "links_tv =soup_tv.find_all(\"a\", class_=\"title-list-grid__item--link\")\n",
        "for tv_link in links_tv:\n",
        "  show_link = \"https://www.justwatch.com\" + tv_link.get(\"href\")\n",
        "  url_tv = show_link\n",
        "  r_tv = requests.get(url_tv)\n",
        "  soup3 = BeautifulSoup(r_tv.text, \"lxml\")\n",
        "  Tv_shows_Url.append(show_link)\n",
        "\n",
        "print(len(Tv_shows_Url ))\n",
        "print(Tv_shows_Url)"
      ]
    },
    {
      "cell_type": "code",
      "execution_count": null,
      "metadata": {
        "id": "Q-awynOVW34s"
      },
      "outputs": [],
      "source": [
        "def get_TVShow_data(link, tryCount = 0):\n",
        "  # so that code doesn't get stuck in infinite loop\n",
        "  if tryCount > 2:\n",
        "    return \"\"\n",
        "\n",
        "  # fetch data\n",
        "  response = requests.get(link)\n",
        "\n",
        "  # handle 429 error\n",
        "  if response.status_code == 429:\n",
        "    time.sleep(5)\n",
        "    return get_TVShow_data(link, tryCount + 1)\n",
        "\n",
        "  return BeautifulSoup(response.text, \"lxml\")\n",
        "\n",
        "TVShows_data = []\n",
        "\n",
        "for link in Tv_shows_Url:\n",
        "  TVShow_data = get_TVShow_data(link)\n",
        "  TVShows_data.append(TVShow_data)"
      ]
    },
    {
      "cell_type": "markdown",
      "metadata": {
        "id": "1vZLzmqcKDPX"
      },
      "source": [
        "## **Fetching Tv Show Title details**"
      ]
    },
    {
      "cell_type": "code",
      "execution_count": null,
      "metadata": {
        "colab": {
          "base_uri": "https://localhost:8080/"
        },
        "id": "a8Y6UF6-JLvO",
        "outputId": "9f4fed33-221a-4bf7-fe6d-d3c35aca586f"
      },
      "outputs": [
        {
          "name": "stdout",
          "output_type": "stream",
          "text": [
            "100\n",
            "['Shōgun', 'Mirzapur', '3 Body Problem', 'Panchayat', 'Game of Thrones', 'The Gentlemen', 'Solo Leveling', 'Sunflower', 'Maharani', 'Maamla Legal Hai', 'Apharan', 'Attack on Titan', 'Inspector Rishi', 'Invincible', 'Ripley', 'Jujutsu Kaisen', 'Halo', 'Saving the Tigers', 'Young Sheldon', 'Farzi', 'Mastram', 'Avatar: The Last Airbender', 'Fallout', 'The Great Indian Kapil Show', 'A Gentleman in Moscow', 'Queen of Tears', 'True Detective', 'Lootere', 'Loki', 'Parasyte: The Grey', 'Reacher', 'Naruto', 'Scam 1992', 'The Family Man', 'Naruto Shippūden', 'Gandii Baat', '9-1-1', 'Supersex', 'Euphoria', 'Yellowstone', 'Money Heist', 'Gullak', 'House of the Dragon', 'Under the Dome', \"X-Men '97\", 'The Rookie', 'Breaking Bad', 'Turning Point: The Bomb and the Cold War', 'Lucifer', 'Peaky Blinders', 'The Vampire Diaries', 'Testament: The Story of Moses', 'Dehati Ladke', 'Dark Desire', 'Aashram', 'Modern Family', \"Grey's Anatomy\", 'The Good Doctor', 'Manhunt', 'Asur: Welcome to Your Dark Side', 'The Freelancer', 'The Flash', 'Young Royals', 'Aarya', 'Spartacus', 'MASHLE: MAGIC AND MUSCLES', 'Stranger Things', 'The Last of Us', 'Playground', 'One-Punch Man', 'Person of Interest', 'The Serpent', 'The Boys', 'Fargo', 'The Legend of Hanuman', 'Monarch: Legacy of Monsters', 'Tokyo Vice', 'American Horror Story', 'Avatar: The Last Airbender', 'Candy', 'Shaitan', 'WeCrashed', 'The Railway Men - The Untold Story of Bhopal 1984', 'Demon Slayer: Kimetsu no Yaiba', 'One Day', 'Indian Police Force', 'Sugar', 'Files of the Unexplained', 'Better Call Saul', 'From', 'Bandidos', 'Wonderful World', 'Masters of the Air', 'Anthracite', \"Big Girls Don't Cry\", 'Succession', 'Bigg Boss', 'Lie to Me', 'Poacher', 'Dexter']\n"
          ]
        }
      ],
      "source": [
        "# Write Your Code here\n",
        "Show_Title = []\n",
        "for TVShow_data in TVShows_data:\n",
        "  TV_title = TVShow_data.find(\"div\", class_=\"title-block\").h1.text.split('(')[0]\n",
        "  Show_Title.append(TV_title.strip())\n",
        "\n",
        "print(len(Show_Title))\n",
        "print(Show_Title)"
      ]
    },
    {
      "cell_type": "markdown",
      "metadata": {
        "id": "mEIt9j6RKa9B"
      },
      "source": [
        "## **Fetching Release Year**"
      ]
    },
    {
      "cell_type": "code",
      "execution_count": null,
      "metadata": {
        "colab": {
          "base_uri": "https://localhost:8080/"
        },
        "id": "r72fyiF8JozW",
        "outputId": "5972adf3-f7ec-4150-cca9-5c893a00b0ab"
      },
      "outputs": [
        {
          "name": "stdout",
          "output_type": "stream",
          "text": [
            "100\n",
            "['2024', '2018', '2024', '2020', '2011', '2024', '2024', '2021', '2021', '2024', '2018', '2013', '2024', '2021', '2024', '2020', '2022', '2023', '2017', '2023', '2020', '2024', '2024', '2024', '2024', '2024', '2014', '2024', '2021', '2024', '2022', '2002', '2020', '2019', '2007', '2018', '2018', '2024', '2019', '2018', '2017', '2019', '2022', '2013', '2024', '2018', '2008', '2024', '2016', '2013', '2009', '2024', '2023', '2020', '2020', '2009', '2005', '2017', '2024', '2020', '2023', '2014', '2021', '2020', '2010', '2023', '2016', '2023', '2022', '2015', '2011', '2021', '2019', '2014', '2021', '2023', '2022', '2011', '2005', '2021', '2023', '2022', '2023', '2019', '2024', '2024', '2024', '2024', '2015', '2022', '2024', '2024', '2024', '2024', '2024', '2018', '2006', '2009', '2023', '2006']\n"
          ]
        }
      ],
      "source": [
        "# Write Your Code here\n",
        "Release_year = []\n",
        "for TVShow_data in TVShows_data:\n",
        "  Release_year.append(TVShow_data.find(\"span\", class_=\"text-muted\").text.strip()[1:-1])\n",
        "\n",
        "print(len(Release_year))\n",
        "print(Release_year)"
      ]
    },
    {
      "cell_type": "markdown",
      "metadata": {
        "id": "P96pGO9kRCLv"
      },
      "source": [
        "## **Fetching TV Show Genre Details**"
      ]
    },
    {
      "cell_type": "code",
      "execution_count": null,
      "metadata": {
        "colab": {
          "base_uri": "https://localhost:8080/"
        },
        "id": "Jay8a9xgT43-",
        "outputId": "758a7f05-b08c-47de-a38c-445b3878a504"
      },
      "outputs": [
        {
          "name": "stdout",
          "output_type": "stream",
          "text": [
            "100\n",
            "['Drama, War & Military, History', 'Crime, Action & Adventure, Drama, Mystery & Thriller', 'Science-Fiction, Mystery & Thriller, Drama, Fantasy', 'Comedy, Drama', 'Action & Adventure, Drama, Fantasy, Science-Fiction', 'Action & Adventure, Comedy, Crime, Drama', 'Fantasy, Animation, Action & Adventure, Science-Fiction', 'Comedy, Crime', 'Drama', 'Drama, Comedy', 'Drama, Action & Adventure, Crime, Mystery & Thriller', 'Drama, Fantasy, Horror, Animation, Action & Adventure, Science-Fiction', 'Horror, Action & Adventure, Drama, Mystery & Thriller', 'Drama, Animation, Science-Fiction, Action & Adventure, Mystery & Thriller, Fantasy', 'Mystery & Thriller, Crime, Drama', 'Animation, Action & Adventure, Fantasy, Mystery & Thriller, Science-Fiction', 'Action & Adventure, Science-Fiction, Mystery & Thriller, War & Military', 'Comedy, Drama, Mystery & Thriller', 'Comedy, Kids & Family', 'Crime, Drama, Mystery & Thriller', 'Drama, Comedy, Fantasy', 'Science-Fiction, Action & Adventure, Fantasy, Comedy, Drama, Kids & Family', 'Action & Adventure, Drama, Science-Fiction, War & Military, Comedy', 'Comedy', 'Drama, History, Mystery & Thriller', 'Drama, Kids & Family, Comedy', 'Drama, Mystery & Thriller, Crime', 'Action & Adventure', 'Science-Fiction, Action & Adventure, Fantasy, Drama', 'Drama, Horror, Science-Fiction, Mystery & Thriller, Action & Adventure', 'Mystery & Thriller, Action & Adventure, Crime, Drama', 'Action & Adventure, Science-Fiction, Animation, Comedy, Fantasy', 'Drama, Mystery & Thriller, Crime', 'Comedy, Drama, Action & Adventure', 'Animation, Action & Adventure, Science-Fiction, Comedy, Drama, Fantasy', 'Drama, Crime, Mystery & Thriller', 'Action & Adventure, Drama, Mystery & Thriller, Crime', 'Drama, History', 'Drama', 'Drama, Western', 'Drama, Mystery & Thriller, Action & Adventure, Crime, Made in Europe', 'Comedy, Drama, Kids & Family', 'Drama, Action & Adventure, Science-Fiction, Romance, Fantasy', 'Drama, Mystery & Thriller, Science-Fiction', 'Animation, Action & Adventure, Science-Fiction, Fantasy', 'Crime, Drama, Comedy, Action & Adventure', 'Drama, Crime, Mystery & Thriller', 'Documentary', 'Crime, Science-Fiction, Fantasy, Drama', 'Drama, Crime', 'Science-Fiction, Romance, Mystery & Thriller, Drama, Fantasy, Horror', 'Documentary, Drama', 'Drama', 'Mystery & Thriller, Drama', 'Drama, Crime, Mystery & Thriller', 'Comedy, Drama, Romance', 'Drama, Romance', 'Drama', 'History, Mystery & Thriller, Drama, Crime', 'Drama, Mystery & Thriller, Crime', 'Mystery & Thriller, Action & Adventure, Drama', 'Action & Adventure, Drama, Science-Fiction', 'Drama, Romance', 'Crime, Drama, Mystery & Thriller, Action & Adventure', 'Drama, Romance, Action & Adventure', 'Animation, Comedy, Action & Adventure, Science-Fiction, Fantasy', 'Drama, Science-Fiction, Mystery & Thriller, Fantasy, Horror', 'Drama, Horror, Science-Fiction, Mystery & Thriller, Action & Adventure', 'Reality TV, Sport', 'Comedy, Action & Adventure, Animation, Kids & Family, Fantasy, Science-Fiction', 'Action & Adventure, Crime, Science-Fiction, Drama, Mystery & Thriller', 'Crime, Drama, Mystery & Thriller', 'Science-Fiction, Action & Adventure, Drama, Comedy, Crime', 'Mystery & Thriller, Crime, Drama', 'Animation, Action & Adventure, Kids & Family, Fantasy', 'Drama, Science-Fiction, Action & Adventure', 'Drama, Mystery & Thriller, Crime', 'Drama, Mystery & Thriller, Science-Fiction, Horror', 'Action & Adventure, Science-Fiction, Kids & Family, Fantasy, Animation', 'Mystery & Thriller, Crime', 'Action & Adventure, Crime, Drama, Mystery & Thriller', 'Drama', 'Drama, History, Mystery & Thriller', 'Fantasy, Mystery & Thriller, Animation, Action & Adventure, Science-Fiction', 'Romance, Comedy, Drama', 'Action & Adventure, Crime', 'Drama, Mystery & Thriller, Crime', 'Mystery & Thriller, Documentary, Crime', 'Crime, Drama', 'Science-Fiction, Mystery & Thriller, Drama, Horror', 'Mystery & Thriller, Action & Adventure, Crime, Drama', 'Mystery & Thriller, Drama', 'Drama, War & Military, Action & Adventure, Mystery & Thriller', 'Drama, Mystery & Thriller, Crime', 'Drama', 'Drama, Comedy', 'Reality TV, Kids & Family', 'Drama, Mystery & Thriller, Crime', 'Crime, Drama', 'Crime, Drama, Mystery & Thriller']\n"
          ]
        }
      ],
      "source": [
        "# Write Your Code here\n",
        "Show_Genre = []\n",
        "for TVShow_data in TVShows_data:\n",
        "  Show_Genre.append(TVShow_data.find(\"h3\", class_ = \"detail-infos__subheading\", string = \"Genres\").find_next_sibling(\"div\", class_=\"detail-infos__value\").text)\n",
        "\n",
        "print(len(Show_Genre))\n",
        "print(Show_Genre)"
      ]
    },
    {
      "cell_type": "markdown",
      "metadata": {
        "id": "hk3eSdDAXQv8"
      },
      "source": [
        "## **Fetching IMDB Rating Details**"
      ]
    },
    {
      "cell_type": "code",
      "execution_count": null,
      "metadata": {
        "colab": {
          "base_uri": "https://localhost:8080/"
        },
        "id": "EmltFOQEXM2W",
        "outputId": "7f1ac449-32f3-4be5-9353-97d5a6f16225"
      },
      "outputs": [
        {
          "name": "stdout",
          "output_type": "stream",
          "text": [
            "100\n",
            "['9.1', '8.5', '7.7', '8.9', '9.2', '8.2', '8.4', '7.5', '7.9', '8.1', '8.3', '9.0', '7.2', '8.7', '8.1', '8.6', '7.3', '8.1', '7.6', '8.4', '7.1', '7.2', '8.7', '7.9', '6.5', 'NaN', '8.9', '6.8', '8.2', '7.3', '8.1', '8.4', '9.3', '8.7', '8.7', '3.4', '7.9', '6.3', '8.3', '8.7', '8.2', '9.1', '8.4', '6.5', 'NaN', '8.0', '9.5', '8.3', '8.1', '8.8', '7.7', '6.2', '7.2', '6.5', '7.4', '8.5', '7.6', '8.0', '7.2', '8.5', '8.1', '7.5', '8.2', '7.9', '8.5', '7.6', '8.7', '8.7', '7.7', '8.7', '8.5', '7.6', '8.7', '8.9', '9.1', '7.0', '8.0', '8.0', '9.3', 'NaN', '6.4', '7.3', '8.5', '8.7', '8.1', '5.2', '8.0', '5.4', '9.0', 'NaN', '6.5', '7.9', '7.9', '6.2', '6.7', '8.8', '3.7', '8.0', '7.7', '8.6']\n"
          ]
        }
      ],
      "source": [
        "# Write Your Code here\n",
        "show_rating = []\n",
        "for TVShow_data in TVShows_data:\n",
        "  try:\n",
        "    ratings = TVShow_data.find(\"h3\", class_ = \"detail-infos__subheading\", string = \"Rating\").find_next_sibling(\"div\", class_=\"detail-infos__value\").span.text.strip()\n",
        "    # using indexing to attain the required rating\n",
        "    rating = ratings[0:3]\n",
        "  except Exception as e:\n",
        "    # print(e)\n",
        "    rating = \"NaN\"\n",
        "\n",
        "  show_rating.append(rating)\n",
        "\n",
        "print(len(show_rating))\n",
        "print(show_rating)"
      ]
    },
    {
      "cell_type": "markdown",
      "metadata": {
        "id": "XZ9nJhmiZB_W"
      },
      "source": [
        "## **Fetching Age Rating Details**"
      ]
    },
    {
      "cell_type": "code",
      "execution_count": null,
      "metadata": {
        "colab": {
          "base_uri": "https://localhost:8080/"
        },
        "id": "wR9Xo8piZA7p",
        "outputId": "f04c4107-7256-4217-fe59-9c2953885e3d"
      },
      "outputs": [
        {
          "name": "stdout",
          "output_type": "stream",
          "text": [
            "100\n",
            "['NaN', 'NaN', 'A', 'NaN', 'A', 'A', 'NaN', 'A', 'UA', 'NaN', 'NaN', 'UA', 'A', 'NaN', 'NaN', 'NaN', 'NaN', 'NaN', 'U', 'NaN', 'NaN', 'NaN', 'A', 'NaN', 'NaN', 'NaN', 'U', 'NaN', 'NaN', 'NaN', 'A', 'NaN', 'NaN', 'NaN', 'U', 'A', 'NaN', 'NaN', 'A', 'NaN', 'NaN', 'NaN', 'A', 'NaN', 'NaN', 'NaN', 'U', 'NaN', 'U', 'A', 'U', 'NaN', 'NaN', 'NaN', 'NaN', 'NaN', 'NaN', 'U', 'NaN', 'NaN', 'NaN', 'NaN', 'NaN', 'NaN', 'NaN', 'NaN', 'NaN', 'A', 'NaN', 'NaN', 'U', 'NaN', 'A', 'NaN', 'NaN', 'NaN', 'A', 'U', 'U', 'NaN', 'A', 'A', 'NaN', 'NaN', 'A', 'A', 'NaN', 'NaN', 'A', 'NaN', 'A', 'NaN', 'A', 'NaN', 'A', 'U', 'NaN', 'NaN', 'NaN', 'A']\n"
          ]
        }
      ],
      "source": [
        "# Write Your Code here\n",
        "Age_rating = []\n",
        "for TVShow_data in TVShows_data:\n",
        "  try:\n",
        "    age_rate = TVShow_data.find(\"h3\", class_ = \"detail-infos__subheading\",  string = \"Age rating\").find_next_sibling(\"div\", class_=\"detail-infos__value\").text\n",
        "  except Exception as e:\n",
        "    # print(e)\n",
        "    age_rate = \"NaN\"\n",
        "\n",
        "  Age_rating.append(age_rate)\n",
        "\n",
        "print(len(Age_rating))\n",
        "print(Age_rating)"
      ]
    },
    {
      "cell_type": "markdown",
      "metadata": {
        "id": "ii49LH4tdNoN"
      },
      "source": [
        "## **Fetching Production Country details**"
      ]
    },
    {
      "cell_type": "code",
      "execution_count": null,
      "metadata": {
        "colab": {
          "base_uri": "https://localhost:8080/"
        },
        "id": "xihOeyN8XXDt",
        "outputId": "7e6c8be3-fd57-4a3e-995b-41cb3dd0f694"
      },
      "outputs": [
        {
          "name": "stdout",
          "output_type": "stream",
          "text": [
            "100\n",
            "['United States', 'India', 'United States', 'India', 'United Kingdom, United States', 'United Kingdom, United States', 'South Korea, Japan', 'India', 'India', 'India', 'India', 'Japan', 'India', 'United States', 'United States', 'United States, Japan', 'United States', 'India', 'United States', 'India', 'India', 'United States', 'United States', 'India', 'United Kingdom', 'South Korea', 'United States', 'India', 'United States', 'South Korea', 'United States', 'Japan', 'India', 'India', 'Japan', 'India', 'United States', 'Italy', 'United States', 'United States', 'Spain', 'India', 'United States', 'United States', 'United States', 'United States', 'United States', 'United States', 'United States', 'United Kingdom', 'United States', 'United States', 'India', 'Mexico', 'India', 'United States', 'United States', 'United States', 'United States', 'India', 'India', 'United States', 'Sweden', 'India', 'United States', 'Japan', 'United States', 'United States', 'India', 'Japan', 'United States', 'United Kingdom', 'United States', 'United States', 'India', 'United States', 'United States', 'United States', 'United States', 'India', 'India', 'United States', 'India', 'Japan', 'United Kingdom', 'India', 'United States', 'United States', 'United States', 'United States', 'Mexico, United States', 'South Korea', 'United States', 'France', 'India', 'United States', 'India', 'United States', 'United States, India', 'United States']\n"
          ]
        }
      ],
      "source": [
        "# Write Your Code here\n",
        "show_country = []\n",
        "for TVShow_data in TVShows_data:\n",
        "  try:\n",
        "    countries = TVShow_data.find(\"h3\", class_ = \"detail-infos__subheading\",  string = \" Production country \").find_next_sibling(\"div\", class_=\"detail-infos__value\").text\n",
        "  except Exception as e:\n",
        "    # print(e)\n",
        "    countries = \"NaN\"\n",
        "\n",
        "  show_country.append(countries)\n",
        "\n",
        "print(len(show_country))\n",
        "print(show_country)\n"
      ]
    },
    {
      "cell_type": "markdown",
      "metadata": {
        "id": "mHZwwgiKdlQm"
      },
      "source": [
        "## **Fetching Streaming Service details**"
      ]
    },
    {
      "cell_type": "code",
      "execution_count": null,
      "metadata": {
        "colab": {
          "base_uri": "https://localhost:8080/"
        },
        "id": "_MBl6Vqadrl9",
        "outputId": "12ae54ec-4671-4a41-e525-b9f33fabfbf7"
      },
      "outputs": [
        {
          "name": "stdout",
          "output_type": "stream",
          "text": [
            "100\n",
            "['Hotstar', 'Amazon Prime Video', 'Netflix', 'Amazon Prime Video', 'Jio Cinema', 'Netflix', 'Crunchyroll', 'VI movies and tv', 'Sony Liv,VI movies and tv', 'Netflix', 'Jio Cinema,Alt Balaji', 'Amazon Prime Video', 'Amazon Prime Video', 'Amazon Prime Video', 'Netflix', 'Netflix,Crunchyroll', 'NaN', 'Hotstar', 'Amazon Prime Video,Netflix', 'Amazon Prime Video', 'NaN', 'Netflix', 'Amazon Prime Video', 'Netflix', 'Amazon Prime Video', 'Netflix', 'Jio Cinema', 'Hotstar', 'Hotstar', 'Netflix', 'Amazon Prime Video', 'Netflix,Amazon Prime Video', 'Sony Liv', 'Amazon Prime Video', 'Netflix,Crunchyroll', 'Alt Balaji', 'Hotstar', 'Netflix', 'Jio Cinema', 'Netflix', 'Netflix', 'Sony Liv', 'Jio Cinema', 'Amazon Prime Video', 'NaN', 'NaN', 'Netflix', 'Netflix', 'Netflix', 'Netflix', 'Netflix,Amazon Prime Video', 'Netflix', 'Amazon miniTV', 'Netflix', 'MX Player', 'Hotstar', 'Hotstar', 'Netflix,Sony Liv', 'Apple TV Plus', 'Jio Cinema', 'Hotstar', 'NaN', 'Netflix', 'Hotstar', 'Lionsgate Play,Lionsgate Play Apple TV Channel,Lionsgate Play Amazon Channel', 'Crunchyroll', 'Netflix', 'Jio Cinema', 'Amazon miniTV', 'Amazon Prime Video,Crunchyroll,Netflix', 'NaN', 'Netflix,Amazon Prime Video', 'Amazon Prime Video', 'NaN', 'Hotstar', 'Apple TV Plus', 'Lionsgate Play,Lionsgate Play Apple TV Channel,Lionsgate Play Amazon Channel', 'Hotstar', 'NaN', 'Jio Cinema', 'Hotstar', 'Apple TV Plus', 'Netflix', 'Netflix,Crunchyroll', 'Netflix', 'Amazon Prime Video', 'Apple TV Plus', 'Netflix', 'Netflix', 'NaN', 'Netflix', 'Hotstar', 'Apple TV Plus', 'Netflix', 'Amazon Prime Video', 'Jio Cinema', 'NaN', 'NaN', 'Amazon Prime Video', 'Netflix,Amazon Prime Video,Jio Cinema']\n"
          ]
        }
      ],
      "source": [
        "# Write Your Code here\n",
        "show_stream = []\n",
        "for TVShow_data in TVShows_data:\n",
        "  try:\n",
        "    img_stream = TVShow_data.find(\"div\", class_ = \"buybox-row stream\" ).find_all(\"img\", class_= \"offer__icon\")\n",
        "    show_alt = [stream[\"alt\"] for stream in  img_stream]\n",
        "    stream_val = \",\".join(show_alt)\n",
        "  except Exception as e:\n",
        "    # print(e)\n",
        "    stream_val = \"NaN\"\n",
        "\n",
        "  show_stream.append(stream_val)\n",
        "\n",
        "print(len(show_stream))\n",
        "print(show_stream)"
      ]
    },
    {
      "cell_type": "markdown",
      "metadata": {
        "id": "uUOtDJv9gM4a"
      },
      "source": [
        "## **Fetching Duration Details**"
      ]
    },
    {
      "cell_type": "code",
      "execution_count": null,
      "metadata": {
        "colab": {
          "base_uri": "https://localhost:8080/"
        },
        "id": "o4x4YY6AfoL1",
        "outputId": "f9adcef8-23e9-43ea-c003-12d51078d499"
      },
      "outputs": [
        {
          "name": "stdout",
          "output_type": "stream",
          "text": [
            "100\n",
            "['58min', '50min', '56min', '33min', '57min', '50min', '24min', '37min', '44min', '32min', '24min', '25min', '45min', '49min', '56min', '23min', '52min', '27min', '19min', '56min', '28min', '54min', '59min', '53min', '49min', '1h 27min', '1h 1min', '45min', '49min', '50min', '48min', '23min', '52min', '45min', '24min', '44min', '43min', '50min', '58min', '50min', '50min', '29min', '1h 2min', '43min', '34min', '42min', '47min', '1h 8min', '47min', '58min', '42min', '1h 25min', '24min', '34min', '43min', '21min', '48min', '43min', '50min', '47min', '50min', '42min', '46min', '46min', '54min', '23min', '1h 1min', '58min', '40min', '24min', '44min', '57min', '1h 1min', '52min', '21min', '46min', '59min', '44min', '24min', '39min', '28min', '53min', '59min', '26min', '29min', '38min', '38min', '36min', '50min', '50min', '45min', '1h 3min', '57min', '50min', '50min', '1h 4min', '1h 15min', '46min', '47min', '53min']\n"
          ]
        }
      ],
      "source": [
        "# Write Your Code here\n",
        "Duration = []\n",
        "for TVShow_data in TVShows_data:\n",
        "  try:\n",
        "    runtime= TVShow_data.find(\"h3\",  class_ = \"detail-infos__subheading\",  string = \"Runtime\").find_next_sibling(\"div\", class_=\"detail-infos__value\").text\n",
        "  except Exception as e:\n",
        "    # print(e)\n",
        "    runtime = \"NaN\"\n",
        "\n",
        "  Duration.append(runtime)\n",
        "\n",
        "print(len(Duration))\n",
        "print(Duration)"
      ]
    },
    {
      "cell_type": "markdown",
      "metadata": {
        "id": "nD4QVPT-nfVR"
      },
      "source": [
        "## **Creating TV Show DataFrame**"
      ]
    },
    {
      "cell_type": "code",
      "execution_count": null,
      "metadata": {
        "colab": {
          "base_uri": "https://localhost:8080/",
          "height": 310
        },
        "id": "W3Lnlb-xip2U",
        "outputId": "2754f5dc-6fea-435a-a094-a2e503c5990a"
      },
      "outputs": [
        {
          "data": {
            "application/vnd.google.colaboratory.intrinsic+json": {
              "summary": "{\n  \"name\": \"TV_Show_df\",\n  \"rows\": 100,\n  \"fields\": [\n    {\n      \"column\": \"Title\",\n      \"properties\": {\n        \"dtype\": \"string\",\n        \"num_unique_values\": 99,\n        \"samples\": [\n          \"Young Royals\",\n          \"Money Heist\",\n          \"Bigg Boss\"\n        ],\n        \"semantic_type\": \"\",\n        \"description\": \"\"\n      }\n    },\n    {\n      \"column\": \"Release Year\",\n      \"properties\": {\n        \"dtype\": \"object\",\n        \"num_unique_values\": 20,\n        \"samples\": [\n          \"2024\",\n          \"2010\",\n          \"2009\"\n        ],\n        \"semantic_type\": \"\",\n        \"description\": \"\"\n      }\n    },\n    {\n      \"column\": \"IMDB Rating\",\n      \"properties\": {\n        \"dtype\": \"category\",\n        \"num_unique_values\": 35,\n        \"samples\": [\n          \"8.8\",\n          \"8.7\",\n          \"8.0\"\n        ],\n        \"semantic_type\": \"\",\n        \"description\": \"\"\n      }\n    },\n    {\n      \"column\": \"Genre\",\n      \"properties\": {\n        \"dtype\": \"string\",\n        \"num_unique_values\": 77,\n        \"samples\": [\n          \"Action & Adventure, Drama, Fantasy, Science-Fiction\",\n          \"Action & Adventure, Drama, Mystery & Thriller, Crime\",\n          \"Drama, Action & Adventure, Crime, Mystery & Thriller\"\n        ],\n        \"semantic_type\": \"\",\n        \"description\": \"\"\n      }\n    },\n    {\n      \"column\": \"Runtime\",\n      \"properties\": {\n        \"dtype\": \"category\",\n        \"num_unique_values\": 41,\n        \"samples\": [\n          \"29min\",\n          \"52min\",\n          \"32min\"\n        ],\n        \"semantic_type\": \"\",\n        \"description\": \"\"\n      }\n    },\n    {\n      \"column\": \"Age rating\",\n      \"properties\": {\n        \"dtype\": \"category\",\n        \"num_unique_values\": 4,\n        \"samples\": [\n          \"A\",\n          \"U\",\n          \"NaN\"\n        ],\n        \"semantic_type\": \"\",\n        \"description\": \"\"\n      }\n    },\n    {\n      \"column\": \"production details\",\n      \"properties\": {\n        \"dtype\": \"category\",\n        \"num_unique_values\": 15,\n        \"samples\": [\n          \"Spain\",\n          \"Sweden\",\n          \"United States\"\n        ],\n        \"semantic_type\": \"\",\n        \"description\": \"\"\n      }\n    },\n    {\n      \"column\": \"streaming details\",\n      \"properties\": {\n        \"dtype\": \"category\",\n        \"num_unique_values\": 21,\n        \"samples\": [\n          \"Hotstar\",\n          \"Apple TV Plus\",\n          \"MX Player\"\n        ],\n        \"semantic_type\": \"\",\n        \"description\": \"\"\n      }\n    },\n    {\n      \"column\": \"Type\",\n      \"properties\": {\n        \"dtype\": \"category\",\n        \"num_unique_values\": 1,\n        \"samples\": [\n          \"TV Show\"\n        ],\n        \"semantic_type\": \"\",\n        \"description\": \"\"\n      }\n    },\n    {\n      \"column\": \"URL_TV_show\",\n      \"properties\": {\n        \"dtype\": \"string\",\n        \"num_unique_values\": 100,\n        \"samples\": [\n          \"https://www.justwatch.com/in/tv-show/demon-slayer-kimetsu-no-yaiba\"\n        ],\n        \"semantic_type\": \"\",\n        \"description\": \"\"\n      }\n    }\n  ]\n}",
              "type": "dataframe",
              "variable_name": "TV_Show_df"
            },
            "text/html": [
              "\n",
              "  <div id=\"df-939a59b9-46cd-4571-8aa1-7fc13b9242ec\" class=\"colab-df-container\">\n",
              "    <div>\n",
              "<style scoped>\n",
              "    .dataframe tbody tr th:only-of-type {\n",
              "        vertical-align: middle;\n",
              "    }\n",
              "\n",
              "    .dataframe tbody tr th {\n",
              "        vertical-align: top;\n",
              "    }\n",
              "\n",
              "    .dataframe thead th {\n",
              "        text-align: right;\n",
              "    }\n",
              "</style>\n",
              "<table border=\"1\" class=\"dataframe\">\n",
              "  <thead>\n",
              "    <tr style=\"text-align: right;\">\n",
              "      <th></th>\n",
              "      <th>Title</th>\n",
              "      <th>Release Year</th>\n",
              "      <th>IMDB Rating</th>\n",
              "      <th>Genre</th>\n",
              "      <th>Runtime</th>\n",
              "      <th>Age rating</th>\n",
              "      <th>production details</th>\n",
              "      <th>streaming details</th>\n",
              "      <th>Type</th>\n",
              "      <th>URL_TV_show</th>\n",
              "    </tr>\n",
              "  </thead>\n",
              "  <tbody>\n",
              "    <tr>\n",
              "      <th>0</th>\n",
              "      <td>Shōgun</td>\n",
              "      <td>2024</td>\n",
              "      <td>9.1</td>\n",
              "      <td>Drama, War &amp; Military, History</td>\n",
              "      <td>58min</td>\n",
              "      <td>NaN</td>\n",
              "      <td>United States</td>\n",
              "      <td>Hotstar</td>\n",
              "      <td>TV Show</td>\n",
              "      <td>https://www.justwatch.com/in/tv-show/shogun-2024</td>\n",
              "    </tr>\n",
              "    <tr>\n",
              "      <th>1</th>\n",
              "      <td>Mirzapur</td>\n",
              "      <td>2018</td>\n",
              "      <td>8.5</td>\n",
              "      <td>Crime, Action &amp; Adventure, Drama, Mystery &amp; Th...</td>\n",
              "      <td>50min</td>\n",
              "      <td>NaN</td>\n",
              "      <td>India</td>\n",
              "      <td>Amazon Prime Video</td>\n",
              "      <td>TV Show</td>\n",
              "      <td>https://www.justwatch.com/in/tv-show/mirzapur</td>\n",
              "    </tr>\n",
              "    <tr>\n",
              "      <th>2</th>\n",
              "      <td>3 Body Problem</td>\n",
              "      <td>2024</td>\n",
              "      <td>7.7</td>\n",
              "      <td>Science-Fiction, Mystery &amp; Thriller, Drama, Fa...</td>\n",
              "      <td>56min</td>\n",
              "      <td>A</td>\n",
              "      <td>United States</td>\n",
              "      <td>Netflix</td>\n",
              "      <td>TV Show</td>\n",
              "      <td>https://www.justwatch.com/in/tv-show/3-body-pr...</td>\n",
              "    </tr>\n",
              "    <tr>\n",
              "      <th>3</th>\n",
              "      <td>Panchayat</td>\n",
              "      <td>2020</td>\n",
              "      <td>8.9</td>\n",
              "      <td>Comedy, Drama</td>\n",
              "      <td>33min</td>\n",
              "      <td>NaN</td>\n",
              "      <td>India</td>\n",
              "      <td>Amazon Prime Video</td>\n",
              "      <td>TV Show</td>\n",
              "      <td>https://www.justwatch.com/in/tv-show/panchayat</td>\n",
              "    </tr>\n",
              "    <tr>\n",
              "      <th>4</th>\n",
              "      <td>Game of Thrones</td>\n",
              "      <td>2011</td>\n",
              "      <td>9.2</td>\n",
              "      <td>Action &amp; Adventure, Drama, Fantasy, Science-Fi...</td>\n",
              "      <td>57min</td>\n",
              "      <td>A</td>\n",
              "      <td>United Kingdom, United States</td>\n",
              "      <td>Jio Cinema</td>\n",
              "      <td>TV Show</td>\n",
              "      <td>https://www.justwatch.com/in/tv-show/game-of-t...</td>\n",
              "    </tr>\n",
              "  </tbody>\n",
              "</table>\n",
              "</div>\n",
              "    <div class=\"colab-df-buttons\">\n",
              "\n",
              "  <div class=\"colab-df-container\">\n",
              "    <button class=\"colab-df-convert\" onclick=\"convertToInteractive('df-939a59b9-46cd-4571-8aa1-7fc13b9242ec')\"\n",
              "            title=\"Convert this dataframe to an interactive table.\"\n",
              "            style=\"display:none;\">\n",
              "\n",
              "  <svg xmlns=\"http://www.w3.org/2000/svg\" height=\"24px\" viewBox=\"0 -960 960 960\">\n",
              "    <path d=\"M120-120v-720h720v720H120Zm60-500h600v-160H180v160Zm220 220h160v-160H400v160Zm0 220h160v-160H400v160ZM180-400h160v-160H180v160Zm440 0h160v-160H620v160ZM180-180h160v-160H180v160Zm440 0h160v-160H620v160Z\"/>\n",
              "  </svg>\n",
              "    </button>\n",
              "\n",
              "  <style>\n",
              "    .colab-df-container {\n",
              "      display:flex;\n",
              "      gap: 12px;\n",
              "    }\n",
              "\n",
              "    .colab-df-convert {\n",
              "      background-color: #E8F0FE;\n",
              "      border: none;\n",
              "      border-radius: 50%;\n",
              "      cursor: pointer;\n",
              "      display: none;\n",
              "      fill: #1967D2;\n",
              "      height: 32px;\n",
              "      padding: 0 0 0 0;\n",
              "      width: 32px;\n",
              "    }\n",
              "\n",
              "    .colab-df-convert:hover {\n",
              "      background-color: #E2EBFA;\n",
              "      box-shadow: 0px 1px 2px rgba(60, 64, 67, 0.3), 0px 1px 3px 1px rgba(60, 64, 67, 0.15);\n",
              "      fill: #174EA6;\n",
              "    }\n",
              "\n",
              "    .colab-df-buttons div {\n",
              "      margin-bottom: 4px;\n",
              "    }\n",
              "\n",
              "    [theme=dark] .colab-df-convert {\n",
              "      background-color: #3B4455;\n",
              "      fill: #D2E3FC;\n",
              "    }\n",
              "\n",
              "    [theme=dark] .colab-df-convert:hover {\n",
              "      background-color: #434B5C;\n",
              "      box-shadow: 0px 1px 3px 1px rgba(0, 0, 0, 0.15);\n",
              "      filter: drop-shadow(0px 1px 2px rgba(0, 0, 0, 0.3));\n",
              "      fill: #FFFFFF;\n",
              "    }\n",
              "  </style>\n",
              "\n",
              "    <script>\n",
              "      const buttonEl =\n",
              "        document.querySelector('#df-939a59b9-46cd-4571-8aa1-7fc13b9242ec button.colab-df-convert');\n",
              "      buttonEl.style.display =\n",
              "        google.colab.kernel.accessAllowed ? 'block' : 'none';\n",
              "\n",
              "      async function convertToInteractive(key) {\n",
              "        const element = document.querySelector('#df-939a59b9-46cd-4571-8aa1-7fc13b9242ec');\n",
              "        const dataTable =\n",
              "          await google.colab.kernel.invokeFunction('convertToInteractive',\n",
              "                                                    [key], {});\n",
              "        if (!dataTable) return;\n",
              "\n",
              "        const docLinkHtml = 'Like what you see? Visit the ' +\n",
              "          '<a target=\"_blank\" href=https://colab.research.google.com/notebooks/data_table.ipynb>data table notebook</a>'\n",
              "          + ' to learn more about interactive tables.';\n",
              "        element.innerHTML = '';\n",
              "        dataTable['output_type'] = 'display_data';\n",
              "        await google.colab.output.renderOutput(dataTable, element);\n",
              "        const docLink = document.createElement('div');\n",
              "        docLink.innerHTML = docLinkHtml;\n",
              "        element.appendChild(docLink);\n",
              "      }\n",
              "    </script>\n",
              "  </div>\n",
              "\n",
              "\n",
              "<div id=\"df-c99aa342-ae64-49c9-b0f0-468da7cae224\">\n",
              "  <button class=\"colab-df-quickchart\" onclick=\"quickchart('df-c99aa342-ae64-49c9-b0f0-468da7cae224')\"\n",
              "            title=\"Suggest charts\"\n",
              "            style=\"display:none;\">\n",
              "\n",
              "<svg xmlns=\"http://www.w3.org/2000/svg\" height=\"24px\"viewBox=\"0 0 24 24\"\n",
              "     width=\"24px\">\n",
              "    <g>\n",
              "        <path d=\"M19 3H5c-1.1 0-2 .9-2 2v14c0 1.1.9 2 2 2h14c1.1 0 2-.9 2-2V5c0-1.1-.9-2-2-2zM9 17H7v-7h2v7zm4 0h-2V7h2v10zm4 0h-2v-4h2v4z\"/>\n",
              "    </g>\n",
              "</svg>\n",
              "  </button>\n",
              "\n",
              "<style>\n",
              "  .colab-df-quickchart {\n",
              "      --bg-color: #E8F0FE;\n",
              "      --fill-color: #1967D2;\n",
              "      --hover-bg-color: #E2EBFA;\n",
              "      --hover-fill-color: #174EA6;\n",
              "      --disabled-fill-color: #AAA;\n",
              "      --disabled-bg-color: #DDD;\n",
              "  }\n",
              "\n",
              "  [theme=dark] .colab-df-quickchart {\n",
              "      --bg-color: #3B4455;\n",
              "      --fill-color: #D2E3FC;\n",
              "      --hover-bg-color: #434B5C;\n",
              "      --hover-fill-color: #FFFFFF;\n",
              "      --disabled-bg-color: #3B4455;\n",
              "      --disabled-fill-color: #666;\n",
              "  }\n",
              "\n",
              "  .colab-df-quickchart {\n",
              "    background-color: var(--bg-color);\n",
              "    border: none;\n",
              "    border-radius: 50%;\n",
              "    cursor: pointer;\n",
              "    display: none;\n",
              "    fill: var(--fill-color);\n",
              "    height: 32px;\n",
              "    padding: 0;\n",
              "    width: 32px;\n",
              "  }\n",
              "\n",
              "  .colab-df-quickchart:hover {\n",
              "    background-color: var(--hover-bg-color);\n",
              "    box-shadow: 0 1px 2px rgba(60, 64, 67, 0.3), 0 1px 3px 1px rgba(60, 64, 67, 0.15);\n",
              "    fill: var(--button-hover-fill-color);\n",
              "  }\n",
              "\n",
              "  .colab-df-quickchart-complete:disabled,\n",
              "  .colab-df-quickchart-complete:disabled:hover {\n",
              "    background-color: var(--disabled-bg-color);\n",
              "    fill: var(--disabled-fill-color);\n",
              "    box-shadow: none;\n",
              "  }\n",
              "\n",
              "  .colab-df-spinner {\n",
              "    border: 2px solid var(--fill-color);\n",
              "    border-color: transparent;\n",
              "    border-bottom-color: var(--fill-color);\n",
              "    animation:\n",
              "      spin 1s steps(1) infinite;\n",
              "  }\n",
              "\n",
              "  @keyframes spin {\n",
              "    0% {\n",
              "      border-color: transparent;\n",
              "      border-bottom-color: var(--fill-color);\n",
              "      border-left-color: var(--fill-color);\n",
              "    }\n",
              "    20% {\n",
              "      border-color: transparent;\n",
              "      border-left-color: var(--fill-color);\n",
              "      border-top-color: var(--fill-color);\n",
              "    }\n",
              "    30% {\n",
              "      border-color: transparent;\n",
              "      border-left-color: var(--fill-color);\n",
              "      border-top-color: var(--fill-color);\n",
              "      border-right-color: var(--fill-color);\n",
              "    }\n",
              "    40% {\n",
              "      border-color: transparent;\n",
              "      border-right-color: var(--fill-color);\n",
              "      border-top-color: var(--fill-color);\n",
              "    }\n",
              "    60% {\n",
              "      border-color: transparent;\n",
              "      border-right-color: var(--fill-color);\n",
              "    }\n",
              "    80% {\n",
              "      border-color: transparent;\n",
              "      border-right-color: var(--fill-color);\n",
              "      border-bottom-color: var(--fill-color);\n",
              "    }\n",
              "    90% {\n",
              "      border-color: transparent;\n",
              "      border-bottom-color: var(--fill-color);\n",
              "    }\n",
              "  }\n",
              "</style>\n",
              "\n",
              "  <script>\n",
              "    async function quickchart(key) {\n",
              "      const quickchartButtonEl =\n",
              "        document.querySelector('#' + key + ' button');\n",
              "      quickchartButtonEl.disabled = true;  // To prevent multiple clicks.\n",
              "      quickchartButtonEl.classList.add('colab-df-spinner');\n",
              "      try {\n",
              "        const charts = await google.colab.kernel.invokeFunction(\n",
              "            'suggestCharts', [key], {});\n",
              "      } catch (error) {\n",
              "        console.error('Error during call to suggestCharts:', error);\n",
              "      }\n",
              "      quickchartButtonEl.classList.remove('colab-df-spinner');\n",
              "      quickchartButtonEl.classList.add('colab-df-quickchart-complete');\n",
              "    }\n",
              "    (() => {\n",
              "      let quickchartButtonEl =\n",
              "        document.querySelector('#df-c99aa342-ae64-49c9-b0f0-468da7cae224 button');\n",
              "      quickchartButtonEl.style.display =\n",
              "        google.colab.kernel.accessAllowed ? 'block' : 'none';\n",
              "    })();\n",
              "  </script>\n",
              "</div>\n",
              "\n",
              "    </div>\n",
              "  </div>\n"
            ],
            "text/plain": [
              "             Title Release Year IMDB Rating  \\\n",
              "0           Shōgun         2024         9.1   \n",
              "1         Mirzapur         2018         8.5   \n",
              "2   3 Body Problem         2024         7.7   \n",
              "3        Panchayat         2020         8.9   \n",
              "4  Game of Thrones         2011         9.2   \n",
              "\n",
              "                                               Genre Runtime Age rating  \\\n",
              "0                     Drama, War & Military, History   58min        NaN   \n",
              "1  Crime, Action & Adventure, Drama, Mystery & Th...   50min        NaN   \n",
              "2  Science-Fiction, Mystery & Thriller, Drama, Fa...   56min          A   \n",
              "3                                      Comedy, Drama   33min        NaN   \n",
              "4  Action & Adventure, Drama, Fantasy, Science-Fi...   57min          A   \n",
              "\n",
              "              production details   streaming details     Type  \\\n",
              "0                  United States             Hotstar  TV Show   \n",
              "1                          India  Amazon Prime Video  TV Show   \n",
              "2                  United States             Netflix  TV Show   \n",
              "3                          India  Amazon Prime Video  TV Show   \n",
              "4  United Kingdom, United States          Jio Cinema  TV Show   \n",
              "\n",
              "                                         URL_TV_show  \n",
              "0   https://www.justwatch.com/in/tv-show/shogun-2024  \n",
              "1      https://www.justwatch.com/in/tv-show/mirzapur  \n",
              "2  https://www.justwatch.com/in/tv-show/3-body-pr...  \n",
              "3     https://www.justwatch.com/in/tv-show/panchayat  \n",
              "4  https://www.justwatch.com/in/tv-show/game-of-t...  "
            ]
          },
          "execution_count": 127,
          "metadata": {},
          "output_type": "execute_result"
        }
      ],
      "source": [
        "# Write Your Code here\n",
        "import pandas as pd\n",
        "TV_Show_dict= {\"Title\": Show_Title, \"Release Year\":Release_year,\"IMDB Rating\": show_rating,\"Genre\": Show_Genre,\n",
        "             \"Runtime\": Duration, \"Age rating\": Age_rating, \"production details\":show_country, \"streaming details\" :show_stream,\n",
        "               \"Type\":\"TV Show\", \"URL_TV_show\" : Tv_shows_Url}\n",
        "TV_Show_df= pd.DataFrame(TV_Show_dict)\n",
        "TV_Show_df.head()"
      ]
    },
    {
      "cell_type": "markdown",
      "metadata": {
        "id": "CyqHHKh4IDx6"
      },
      "source": [
        "## **Task 2 :- Data Filtering & Analysis**"
      ]
    },
    {
      "cell_type": "code",
      "execution_count": null,
      "metadata": {
        "colab": {
          "base_uri": "https://localhost:8080/"
        },
        "id": "ly64H04vH1v9",
        "outputId": "725d9b20-fca7-41e0-a2b5-7bc425dfc13a"
      },
      "outputs": [
        {
          "data": {
            "application/vnd.google.colaboratory.intrinsic+json": {
              "summary": "{\n  \"name\": \"Final_df\",\n  \"rows\": 200,\n  \"fields\": [\n    {\n      \"column\": \"Title\",\n      \"properties\": {\n        \"dtype\": \"string\",\n        \"num_unique_values\": 198,\n        \"samples\": [\n          \"Ayalaan\",\n          \"Jujutsu Kaisen\",\n          \"Dune: Part Two\"\n        ],\n        \"semantic_type\": \"\",\n        \"description\": \"\"\n      }\n    },\n    {\n      \"column\": \"Release Year\",\n      \"properties\": {\n        \"dtype\": \"date\",\n        \"min\": \"2001\",\n        \"max\": \"2024\",\n        \"num_unique_values\": 21,\n        \"samples\": [\n          \"2024\",\n          \"2009\",\n          \"2002\"\n        ],\n        \"semantic_type\": \"\",\n        \"description\": \"\"\n      }\n    },\n    {\n      \"column\": \"IMDB Rating\",\n      \"properties\": {\n        \"dtype\": \"category\",\n        \"num_unique_values\": 48,\n        \"samples\": [\n          \"5.4\",\n          \"8.9\",\n          \"5.2\"\n        ],\n        \"semantic_type\": \"\",\n        \"description\": \"\"\n      }\n    },\n    {\n      \"column\": \"Genre\",\n      \"properties\": {\n        \"dtype\": \"string\",\n        \"num_unique_values\": 145,\n        \"samples\": [\n          \"Mystery & Thriller, Action & Adventure, Comedy\",\n          \"Mystery & Thriller, Documentary, Crime\",\n          \"Drama, Romance, Made in Europe\"\n        ],\n        \"semantic_type\": \"\",\n        \"description\": \"\"\n      }\n    },\n    {\n      \"column\": \"Runtime\",\n      \"properties\": {\n        \"dtype\": \"string\",\n        \"num_unique_values\": 103,\n        \"samples\": [\n          \"2h 5min\",\n          \"57min\",\n          \"1h 36min\"\n        ],\n        \"semantic_type\": \"\",\n        \"description\": \"\"\n      }\n    },\n    {\n      \"column\": \"Age rating\",\n      \"properties\": {\n        \"dtype\": \"category\",\n        \"num_unique_values\": 4,\n        \"samples\": [\n          \"NaN\",\n          \"U\",\n          \"UA\"\n        ],\n        \"semantic_type\": \"\",\n        \"description\": \"\"\n      }\n    },\n    {\n      \"column\": \"production details\",\n      \"properties\": {\n        \"dtype\": \"category\",\n        \"num_unique_values\": 31,\n        \"samples\": [\n          \"Spain\",\n          \"Germany, United Kingdom, United States\",\n          \"South Korea, Japan\"\n        ],\n        \"semantic_type\": \"\",\n        \"description\": \"\"\n      }\n    },\n    {\n      \"column\": \"streaming details\",\n      \"properties\": {\n        \"dtype\": \"category\",\n        \"num_unique_values\": 30,\n        \"samples\": [\n          \"Lionsgate Play,Lionsgate Play Apple TV Channel,Lionsgate Play Amazon Channel\",\n          \"Jio Cinema\",\n          \"Alt Balaji\"\n        ],\n        \"semantic_type\": \"\",\n        \"description\": \"\"\n      }\n    },\n    {\n      \"column\": \"Type\",\n      \"properties\": {\n        \"dtype\": \"category\",\n        \"num_unique_values\": 2,\n        \"samples\": [\n          \"TV Show\",\n          \"Movie\"\n        ],\n        \"semantic_type\": \"\",\n        \"description\": \"\"\n      }\n    },\n    {\n      \"column\": \"URL_Movies\",\n      \"properties\": {\n        \"dtype\": \"string\",\n        \"num_unique_values\": 100,\n        \"samples\": [\n          \"https://www.justwatch.com/in/movie/blackberry\",\n          \"https://www.justwatch.com/in/movie/she-said\"\n        ],\n        \"semantic_type\": \"\",\n        \"description\": \"\"\n      }\n    },\n    {\n      \"column\": \"URL_TV_show\",\n      \"properties\": {\n        \"dtype\": \"string\",\n        \"num_unique_values\": 100,\n        \"samples\": [\n          \"https://www.justwatch.com/in/tv-show/demon-slayer-kimetsu-no-yaiba\",\n          \"https://www.justwatch.com/in/tv-show/dark-desire\"\n        ],\n        \"semantic_type\": \"\",\n        \"description\": \"\"\n      }\n    }\n  ]\n}",
              "type": "dataframe",
              "variable_name": "Final_df"
            },
            "text/html": [
              "\n",
              "  <div id=\"df-04e5bd89-dbb7-4171-93e9-db8aaff9ee37\" class=\"colab-df-container\">\n",
              "    <div>\n",
              "<style scoped>\n",
              "    .dataframe tbody tr th:only-of-type {\n",
              "        vertical-align: middle;\n",
              "    }\n",
              "\n",
              "    .dataframe tbody tr th {\n",
              "        vertical-align: top;\n",
              "    }\n",
              "\n",
              "    .dataframe thead th {\n",
              "        text-align: right;\n",
              "    }\n",
              "</style>\n",
              "<table border=\"1\" class=\"dataframe\">\n",
              "  <thead>\n",
              "    <tr style=\"text-align: right;\">\n",
              "      <th></th>\n",
              "      <th>Title</th>\n",
              "      <th>Release Year</th>\n",
              "      <th>IMDB Rating</th>\n",
              "      <th>Genre</th>\n",
              "      <th>Runtime</th>\n",
              "      <th>Age rating</th>\n",
              "      <th>production details</th>\n",
              "      <th>streaming details</th>\n",
              "      <th>Type</th>\n",
              "      <th>URL_Movies</th>\n",
              "      <th>URL_TV_show</th>\n",
              "    </tr>\n",
              "  </thead>\n",
              "  <tbody>\n",
              "    <tr>\n",
              "      <th>0</th>\n",
              "      <td>Hanu-Man</td>\n",
              "      <td>2024</td>\n",
              "      <td>8.0</td>\n",
              "      <td>Comedy, Science-Fiction, Fantasy, Action &amp; Adv...</td>\n",
              "      <td>2h 39min</td>\n",
              "      <td>UA</td>\n",
              "      <td>India</td>\n",
              "      <td>Jio Cinema, Zee5</td>\n",
              "      <td>Movie</td>\n",
              "      <td>https://www.justwatch.com/in/movie/hanu-man</td>\n",
              "      <td>NaN</td>\n",
              "    </tr>\n",
              "    <tr>\n",
              "      <th>1</th>\n",
              "      <td>Teri Baaton Mein Aisa Uljha Jiya</td>\n",
              "      <td>2024</td>\n",
              "      <td>6.5</td>\n",
              "      <td>Romance, Science-Fiction, Comedy, Drama</td>\n",
              "      <td>2h 21min</td>\n",
              "      <td>NaN</td>\n",
              "      <td>India</td>\n",
              "      <td>Amazon Prime Video</td>\n",
              "      <td>Movie</td>\n",
              "      <td>https://www.justwatch.com/in/movie/untitled-sh...</td>\n",
              "      <td>NaN</td>\n",
              "    </tr>\n",
              "    <tr>\n",
              "      <th>2</th>\n",
              "      <td>Oppenheimer</td>\n",
              "      <td>2023</td>\n",
              "      <td>8.3</td>\n",
              "      <td>Drama, History</td>\n",
              "      <td>3h 0min</td>\n",
              "      <td>UA</td>\n",
              "      <td>United Kingdom, United States</td>\n",
              "      <td>Apple TV</td>\n",
              "      <td>Movie</td>\n",
              "      <td>https://www.justwatch.com/in/movie/oppenheimer</td>\n",
              "      <td>NaN</td>\n",
              "    </tr>\n",
              "    <tr>\n",
              "      <th>3</th>\n",
              "      <td>Fighter</td>\n",
              "      <td>2024</td>\n",
              "      <td>6.4</td>\n",
              "      <td>Mystery &amp; Thriller, War &amp; Military, Action &amp; A...</td>\n",
              "      <td>2h 47min</td>\n",
              "      <td>UA</td>\n",
              "      <td>India</td>\n",
              "      <td>Netflix</td>\n",
              "      <td>Movie</td>\n",
              "      <td>https://www.justwatch.com/in/movie/fighter-2022</td>\n",
              "      <td>NaN</td>\n",
              "    </tr>\n",
              "    <tr>\n",
              "      <th>4</th>\n",
              "      <td>Anatomy of a Fall</td>\n",
              "      <td>2023</td>\n",
              "      <td>7.7</td>\n",
              "      <td>Mystery &amp; Thriller, Crime, Drama</td>\n",
              "      <td>2h 32min</td>\n",
              "      <td>NaN</td>\n",
              "      <td>France</td>\n",
              "      <td>Amazon Prime Video</td>\n",
              "      <td>Movie</td>\n",
              "      <td>https://www.justwatch.com/in/movie/anatomie-du...</td>\n",
              "      <td>NaN</td>\n",
              "    </tr>\n",
              "  </tbody>\n",
              "</table>\n",
              "</div>\n",
              "    <div class=\"colab-df-buttons\">\n",
              "\n",
              "  <div class=\"colab-df-container\">\n",
              "    <button class=\"colab-df-convert\" onclick=\"convertToInteractive('df-04e5bd89-dbb7-4171-93e9-db8aaff9ee37')\"\n",
              "            title=\"Convert this dataframe to an interactive table.\"\n",
              "            style=\"display:none;\">\n",
              "\n",
              "  <svg xmlns=\"http://www.w3.org/2000/svg\" height=\"24px\" viewBox=\"0 -960 960 960\">\n",
              "    <path d=\"M120-120v-720h720v720H120Zm60-500h600v-160H180v160Zm220 220h160v-160H400v160Zm0 220h160v-160H400v160ZM180-400h160v-160H180v160Zm440 0h160v-160H620v160ZM180-180h160v-160H180v160Zm440 0h160v-160H620v160Z\"/>\n",
              "  </svg>\n",
              "    </button>\n",
              "\n",
              "  <style>\n",
              "    .colab-df-container {\n",
              "      display:flex;\n",
              "      gap: 12px;\n",
              "    }\n",
              "\n",
              "    .colab-df-convert {\n",
              "      background-color: #E8F0FE;\n",
              "      border: none;\n",
              "      border-radius: 50%;\n",
              "      cursor: pointer;\n",
              "      display: none;\n",
              "      fill: #1967D2;\n",
              "      height: 32px;\n",
              "      padding: 0 0 0 0;\n",
              "      width: 32px;\n",
              "    }\n",
              "\n",
              "    .colab-df-convert:hover {\n",
              "      background-color: #E2EBFA;\n",
              "      box-shadow: 0px 1px 2px rgba(60, 64, 67, 0.3), 0px 1px 3px 1px rgba(60, 64, 67, 0.15);\n",
              "      fill: #174EA6;\n",
              "    }\n",
              "\n",
              "    .colab-df-buttons div {\n",
              "      margin-bottom: 4px;\n",
              "    }\n",
              "\n",
              "    [theme=dark] .colab-df-convert {\n",
              "      background-color: #3B4455;\n",
              "      fill: #D2E3FC;\n",
              "    }\n",
              "\n",
              "    [theme=dark] .colab-df-convert:hover {\n",
              "      background-color: #434B5C;\n",
              "      box-shadow: 0px 1px 3px 1px rgba(0, 0, 0, 0.15);\n",
              "      filter: drop-shadow(0px 1px 2px rgba(0, 0, 0, 0.3));\n",
              "      fill: #FFFFFF;\n",
              "    }\n",
              "  </style>\n",
              "\n",
              "    <script>\n",
              "      const buttonEl =\n",
              "        document.querySelector('#df-04e5bd89-dbb7-4171-93e9-db8aaff9ee37 button.colab-df-convert');\n",
              "      buttonEl.style.display =\n",
              "        google.colab.kernel.accessAllowed ? 'block' : 'none';\n",
              "\n",
              "      async function convertToInteractive(key) {\n",
              "        const element = document.querySelector('#df-04e5bd89-dbb7-4171-93e9-db8aaff9ee37');\n",
              "        const dataTable =\n",
              "          await google.colab.kernel.invokeFunction('convertToInteractive',\n",
              "                                                    [key], {});\n",
              "        if (!dataTable) return;\n",
              "\n",
              "        const docLinkHtml = 'Like what you see? Visit the ' +\n",
              "          '<a target=\"_blank\" href=https://colab.research.google.com/notebooks/data_table.ipynb>data table notebook</a>'\n",
              "          + ' to learn more about interactive tables.';\n",
              "        element.innerHTML = '';\n",
              "        dataTable['output_type'] = 'display_data';\n",
              "        await google.colab.output.renderOutput(dataTable, element);\n",
              "        const docLink = document.createElement('div');\n",
              "        docLink.innerHTML = docLinkHtml;\n",
              "        element.appendChild(docLink);\n",
              "      }\n",
              "    </script>\n",
              "  </div>\n",
              "\n",
              "\n",
              "<div id=\"df-e67c8391-0135-4bad-8d82-c49a79e987f2\">\n",
              "  <button class=\"colab-df-quickchart\" onclick=\"quickchart('df-e67c8391-0135-4bad-8d82-c49a79e987f2')\"\n",
              "            title=\"Suggest charts\"\n",
              "            style=\"display:none;\">\n",
              "\n",
              "<svg xmlns=\"http://www.w3.org/2000/svg\" height=\"24px\"viewBox=\"0 0 24 24\"\n",
              "     width=\"24px\">\n",
              "    <g>\n",
              "        <path d=\"M19 3H5c-1.1 0-2 .9-2 2v14c0 1.1.9 2 2 2h14c1.1 0 2-.9 2-2V5c0-1.1-.9-2-2-2zM9 17H7v-7h2v7zm4 0h-2V7h2v10zm4 0h-2v-4h2v4z\"/>\n",
              "    </g>\n",
              "</svg>\n",
              "  </button>\n",
              "\n",
              "<style>\n",
              "  .colab-df-quickchart {\n",
              "      --bg-color: #E8F0FE;\n",
              "      --fill-color: #1967D2;\n",
              "      --hover-bg-color: #E2EBFA;\n",
              "      --hover-fill-color: #174EA6;\n",
              "      --disabled-fill-color: #AAA;\n",
              "      --disabled-bg-color: #DDD;\n",
              "  }\n",
              "\n",
              "  [theme=dark] .colab-df-quickchart {\n",
              "      --bg-color: #3B4455;\n",
              "      --fill-color: #D2E3FC;\n",
              "      --hover-bg-color: #434B5C;\n",
              "      --hover-fill-color: #FFFFFF;\n",
              "      --disabled-bg-color: #3B4455;\n",
              "      --disabled-fill-color: #666;\n",
              "  }\n",
              "\n",
              "  .colab-df-quickchart {\n",
              "    background-color: var(--bg-color);\n",
              "    border: none;\n",
              "    border-radius: 50%;\n",
              "    cursor: pointer;\n",
              "    display: none;\n",
              "    fill: var(--fill-color);\n",
              "    height: 32px;\n",
              "    padding: 0;\n",
              "    width: 32px;\n",
              "  }\n",
              "\n",
              "  .colab-df-quickchart:hover {\n",
              "    background-color: var(--hover-bg-color);\n",
              "    box-shadow: 0 1px 2px rgba(60, 64, 67, 0.3), 0 1px 3px 1px rgba(60, 64, 67, 0.15);\n",
              "    fill: var(--button-hover-fill-color);\n",
              "  }\n",
              "\n",
              "  .colab-df-quickchart-complete:disabled,\n",
              "  .colab-df-quickchart-complete:disabled:hover {\n",
              "    background-color: var(--disabled-bg-color);\n",
              "    fill: var(--disabled-fill-color);\n",
              "    box-shadow: none;\n",
              "  }\n",
              "\n",
              "  .colab-df-spinner {\n",
              "    border: 2px solid var(--fill-color);\n",
              "    border-color: transparent;\n",
              "    border-bottom-color: var(--fill-color);\n",
              "    animation:\n",
              "      spin 1s steps(1) infinite;\n",
              "  }\n",
              "\n",
              "  @keyframes spin {\n",
              "    0% {\n",
              "      border-color: transparent;\n",
              "      border-bottom-color: var(--fill-color);\n",
              "      border-left-color: var(--fill-color);\n",
              "    }\n",
              "    20% {\n",
              "      border-color: transparent;\n",
              "      border-left-color: var(--fill-color);\n",
              "      border-top-color: var(--fill-color);\n",
              "    }\n",
              "    30% {\n",
              "      border-color: transparent;\n",
              "      border-left-color: var(--fill-color);\n",
              "      border-top-color: var(--fill-color);\n",
              "      border-right-color: var(--fill-color);\n",
              "    }\n",
              "    40% {\n",
              "      border-color: transparent;\n",
              "      border-right-color: var(--fill-color);\n",
              "      border-top-color: var(--fill-color);\n",
              "    }\n",
              "    60% {\n",
              "      border-color: transparent;\n",
              "      border-right-color: var(--fill-color);\n",
              "    }\n",
              "    80% {\n",
              "      border-color: transparent;\n",
              "      border-right-color: var(--fill-color);\n",
              "      border-bottom-color: var(--fill-color);\n",
              "    }\n",
              "    90% {\n",
              "      border-color: transparent;\n",
              "      border-bottom-color: var(--fill-color);\n",
              "    }\n",
              "  }\n",
              "</style>\n",
              "\n",
              "  <script>\n",
              "    async function quickchart(key) {\n",
              "      const quickchartButtonEl =\n",
              "        document.querySelector('#' + key + ' button');\n",
              "      quickchartButtonEl.disabled = true;  // To prevent multiple clicks.\n",
              "      quickchartButtonEl.classList.add('colab-df-spinner');\n",
              "      try {\n",
              "        const charts = await google.colab.kernel.invokeFunction(\n",
              "            'suggestCharts', [key], {});\n",
              "      } catch (error) {\n",
              "        console.error('Error during call to suggestCharts:', error);\n",
              "      }\n",
              "      quickchartButtonEl.classList.remove('colab-df-spinner');\n",
              "      quickchartButtonEl.classList.add('colab-df-quickchart-complete');\n",
              "    }\n",
              "    (() => {\n",
              "      let quickchartButtonEl =\n",
              "        document.querySelector('#df-e67c8391-0135-4bad-8d82-c49a79e987f2 button');\n",
              "      quickchartButtonEl.style.display =\n",
              "        google.colab.kernel.accessAllowed ? 'block' : 'none';\n",
              "    })();\n",
              "  </script>\n",
              "</div>\n",
              "\n",
              "    </div>\n",
              "  </div>\n"
            ],
            "text/plain": [
              "                              Title Release Year IMDB Rating  \\\n",
              "0                          Hanu-Man         2024         8.0   \n",
              "1  Teri Baaton Mein Aisa Uljha Jiya         2024         6.5   \n",
              "2                       Oppenheimer         2023         8.3   \n",
              "3                           Fighter         2024         6.4   \n",
              "4                 Anatomy of a Fall         2023         7.7   \n",
              "\n",
              "                                               Genre   Runtime Age rating  \\\n",
              "0  Comedy, Science-Fiction, Fantasy, Action & Adv...  2h 39min         UA   \n",
              "1            Romance, Science-Fiction, Comedy, Drama  2h 21min        NaN   \n",
              "2                                     Drama, History   3h 0min         UA   \n",
              "3  Mystery & Thriller, War & Military, Action & A...  2h 47min         UA   \n",
              "4                   Mystery & Thriller, Crime, Drama  2h 32min        NaN   \n",
              "\n",
              "              production details   streaming details   Type  \\\n",
              "0                          India    Jio Cinema, Zee5  Movie   \n",
              "1                          India  Amazon Prime Video  Movie   \n",
              "2  United Kingdom, United States            Apple TV  Movie   \n",
              "3                          India             Netflix  Movie   \n",
              "4                         France  Amazon Prime Video  Movie   \n",
              "\n",
              "                                          URL_Movies URL_TV_show  \n",
              "0        https://www.justwatch.com/in/movie/hanu-man         NaN  \n",
              "1  https://www.justwatch.com/in/movie/untitled-sh...         NaN  \n",
              "2     https://www.justwatch.com/in/movie/oppenheimer         NaN  \n",
              "3    https://www.justwatch.com/in/movie/fighter-2022         NaN  \n",
              "4  https://www.justwatch.com/in/movie/anatomie-du...         NaN  "
            ]
          },
          "execution_count": 111,
          "metadata": {},
          "output_type": "execute_result"
        }
      ],
      "source": [
        "# Write Your Code here\n",
        "Final_df = pd.concat([movie_df, TV_Show_df])\n",
        "Final_df.head()"
      ]
    },
    {
      "cell_type": "code",
      "execution_count": null,
      "metadata": {
        "id": "_c8E0srIx4oR"
      },
      "outputs": [],
      "source": [
        "#converting the datatype\n",
        "Final_df[[\"IMDB Rating\",\"Release Year\" ]] = Final_df[[\"IMDB Rating\", \"Release Year\" ]]. astype(float)"
      ]
    },
    {
      "cell_type": "code",
      "execution_count": null,
      "metadata": {
        "colab": {
          "base_uri": "https://localhost:8080/"
        },
        "id": "4qPgFt3Hxrr-",
        "outputId": "9e4efaba-840b-436b-9883-22b0b9658381"
      },
      "outputs": [
        {
          "data": {
            "application/vnd.google.colaboratory.intrinsic+json": {
              "summary": "{\n  \"name\": \"Final_df\",\n  \"rows\": 200,\n  \"fields\": [\n    {\n      \"column\": \"Title\",\n      \"properties\": {\n        \"dtype\": \"string\",\n        \"num_unique_values\": 198,\n        \"samples\": [\n          \"Ayalaan\",\n          \"Jujutsu Kaisen\",\n          \"Dune: Part Two\"\n        ],\n        \"semantic_type\": \"\",\n        \"description\": \"\"\n      }\n    },\n    {\n      \"column\": \"Release Year\",\n      \"properties\": {\n        \"dtype\": \"number\",\n        \"std\": 5.10461167000072,\n        \"min\": 2001.0,\n        \"max\": 2024.0,\n        \"num_unique_values\": 21,\n        \"samples\": [\n          2024.0,\n          2009.0,\n          2002.0\n        ],\n        \"semantic_type\": \"\",\n        \"description\": \"\"\n      }\n    },\n    {\n      \"column\": \"IMDB Rating\",\n      \"properties\": {\n        \"dtype\": \"number\",\n        \"std\": 1.1749607250414151,\n        \"min\": 3.3,\n        \"max\": 9.5,\n        \"num_unique_values\": 47,\n        \"samples\": [\n          5.4,\n          8.5,\n          5.2\n        ],\n        \"semantic_type\": \"\",\n        \"description\": \"\"\n      }\n    },\n    {\n      \"column\": \"Genre\",\n      \"properties\": {\n        \"dtype\": \"string\",\n        \"num_unique_values\": 145,\n        \"samples\": [\n          \"Mystery & Thriller, Action & Adventure, Comedy\",\n          \"Mystery & Thriller, Documentary, Crime\",\n          \"Drama, Romance, Made in Europe\"\n        ],\n        \"semantic_type\": \"\",\n        \"description\": \"\"\n      }\n    },\n    {\n      \"column\": \"Runtime\",\n      \"properties\": {\n        \"dtype\": \"string\",\n        \"num_unique_values\": 103,\n        \"samples\": [\n          \"2h 5min\",\n          \"57min\",\n          \"1h 36min\"\n        ],\n        \"semantic_type\": \"\",\n        \"description\": \"\"\n      }\n    },\n    {\n      \"column\": \"Age rating\",\n      \"properties\": {\n        \"dtype\": \"category\",\n        \"num_unique_values\": 4,\n        \"samples\": [\n          \"NaN\",\n          \"U\",\n          \"UA\"\n        ],\n        \"semantic_type\": \"\",\n        \"description\": \"\"\n      }\n    },\n    {\n      \"column\": \"production details\",\n      \"properties\": {\n        \"dtype\": \"category\",\n        \"num_unique_values\": 31,\n        \"samples\": [\n          \"Spain\",\n          \"Germany, United Kingdom, United States\",\n          \"South Korea, Japan\"\n        ],\n        \"semantic_type\": \"\",\n        \"description\": \"\"\n      }\n    },\n    {\n      \"column\": \"streaming details\",\n      \"properties\": {\n        \"dtype\": \"category\",\n        \"num_unique_values\": 30,\n        \"samples\": [\n          \"Lionsgate Play,Lionsgate Play Apple TV Channel,Lionsgate Play Amazon Channel\",\n          \"Jio Cinema\",\n          \"Alt Balaji\"\n        ],\n        \"semantic_type\": \"\",\n        \"description\": \"\"\n      }\n    },\n    {\n      \"column\": \"Type\",\n      \"properties\": {\n        \"dtype\": \"category\",\n        \"num_unique_values\": 2,\n        \"samples\": [\n          \"TV Show\",\n          \"Movie\"\n        ],\n        \"semantic_type\": \"\",\n        \"description\": \"\"\n      }\n    },\n    {\n      \"column\": \"URL_Movies\",\n      \"properties\": {\n        \"dtype\": \"string\",\n        \"num_unique_values\": 100,\n        \"samples\": [\n          \"https://www.justwatch.com/in/movie/blackberry\",\n          \"https://www.justwatch.com/in/movie/she-said\"\n        ],\n        \"semantic_type\": \"\",\n        \"description\": \"\"\n      }\n    },\n    {\n      \"column\": \"URL_TV_show\",\n      \"properties\": {\n        \"dtype\": \"string\",\n        \"num_unique_values\": 100,\n        \"samples\": [\n          \"https://www.justwatch.com/in/tv-show/demon-slayer-kimetsu-no-yaiba\",\n          \"https://www.justwatch.com/in/tv-show/dark-desire\"\n        ],\n        \"semantic_type\": \"\",\n        \"description\": \"\"\n      }\n    }\n  ]\n}",
              "type": "dataframe",
              "variable_name": "Final_df"
            },
            "text/html": [
              "\n",
              "  <div id=\"df-d3bd003b-57fe-469a-afcc-c5b5ae826559\" class=\"colab-df-container\">\n",
              "    <div>\n",
              "<style scoped>\n",
              "    .dataframe tbody tr th:only-of-type {\n",
              "        vertical-align: middle;\n",
              "    }\n",
              "\n",
              "    .dataframe tbody tr th {\n",
              "        vertical-align: top;\n",
              "    }\n",
              "\n",
              "    .dataframe thead th {\n",
              "        text-align: right;\n",
              "    }\n",
              "</style>\n",
              "<table border=\"1\" class=\"dataframe\">\n",
              "  <thead>\n",
              "    <tr style=\"text-align: right;\">\n",
              "      <th></th>\n",
              "      <th>Title</th>\n",
              "      <th>Release Year</th>\n",
              "      <th>IMDB Rating</th>\n",
              "      <th>Genre</th>\n",
              "      <th>Runtime</th>\n",
              "      <th>Age rating</th>\n",
              "      <th>production details</th>\n",
              "      <th>streaming details</th>\n",
              "      <th>Type</th>\n",
              "      <th>URL_Movies</th>\n",
              "      <th>URL_TV_show</th>\n",
              "    </tr>\n",
              "  </thead>\n",
              "  <tbody>\n",
              "    <tr>\n",
              "      <th>0</th>\n",
              "      <td>Hanu-Man</td>\n",
              "      <td>2024.0</td>\n",
              "      <td>8.0</td>\n",
              "      <td>Comedy, Science-Fiction, Fantasy, Action &amp; Adv...</td>\n",
              "      <td>2h 39min</td>\n",
              "      <td>UA</td>\n",
              "      <td>India</td>\n",
              "      <td>Jio Cinema, Zee5</td>\n",
              "      <td>Movie</td>\n",
              "      <td>https://www.justwatch.com/in/movie/hanu-man</td>\n",
              "      <td>NaN</td>\n",
              "    </tr>\n",
              "    <tr>\n",
              "      <th>1</th>\n",
              "      <td>Teri Baaton Mein Aisa Uljha Jiya</td>\n",
              "      <td>2024.0</td>\n",
              "      <td>6.5</td>\n",
              "      <td>Romance, Science-Fiction, Comedy, Drama</td>\n",
              "      <td>2h 21min</td>\n",
              "      <td>NaN</td>\n",
              "      <td>India</td>\n",
              "      <td>Amazon Prime Video</td>\n",
              "      <td>Movie</td>\n",
              "      <td>https://www.justwatch.com/in/movie/untitled-sh...</td>\n",
              "      <td>NaN</td>\n",
              "    </tr>\n",
              "    <tr>\n",
              "      <th>2</th>\n",
              "      <td>Oppenheimer</td>\n",
              "      <td>2023.0</td>\n",
              "      <td>8.3</td>\n",
              "      <td>Drama, History</td>\n",
              "      <td>3h 0min</td>\n",
              "      <td>UA</td>\n",
              "      <td>United Kingdom, United States</td>\n",
              "      <td>Apple TV</td>\n",
              "      <td>Movie</td>\n",
              "      <td>https://www.justwatch.com/in/movie/oppenheimer</td>\n",
              "      <td>NaN</td>\n",
              "    </tr>\n",
              "    <tr>\n",
              "      <th>3</th>\n",
              "      <td>Fighter</td>\n",
              "      <td>2024.0</td>\n",
              "      <td>6.4</td>\n",
              "      <td>Mystery &amp; Thriller, War &amp; Military, Action &amp; A...</td>\n",
              "      <td>2h 47min</td>\n",
              "      <td>UA</td>\n",
              "      <td>India</td>\n",
              "      <td>Netflix</td>\n",
              "      <td>Movie</td>\n",
              "      <td>https://www.justwatch.com/in/movie/fighter-2022</td>\n",
              "      <td>NaN</td>\n",
              "    </tr>\n",
              "    <tr>\n",
              "      <th>4</th>\n",
              "      <td>Anatomy of a Fall</td>\n",
              "      <td>2023.0</td>\n",
              "      <td>7.7</td>\n",
              "      <td>Mystery &amp; Thriller, Crime, Drama</td>\n",
              "      <td>2h 32min</td>\n",
              "      <td>NaN</td>\n",
              "      <td>France</td>\n",
              "      <td>Amazon Prime Video</td>\n",
              "      <td>Movie</td>\n",
              "      <td>https://www.justwatch.com/in/movie/anatomie-du...</td>\n",
              "      <td>NaN</td>\n",
              "    </tr>\n",
              "  </tbody>\n",
              "</table>\n",
              "</div>\n",
              "    <div class=\"colab-df-buttons\">\n",
              "\n",
              "  <div class=\"colab-df-container\">\n",
              "    <button class=\"colab-df-convert\" onclick=\"convertToInteractive('df-d3bd003b-57fe-469a-afcc-c5b5ae826559')\"\n",
              "            title=\"Convert this dataframe to an interactive table.\"\n",
              "            style=\"display:none;\">\n",
              "\n",
              "  <svg xmlns=\"http://www.w3.org/2000/svg\" height=\"24px\" viewBox=\"0 -960 960 960\">\n",
              "    <path d=\"M120-120v-720h720v720H120Zm60-500h600v-160H180v160Zm220 220h160v-160H400v160Zm0 220h160v-160H400v160ZM180-400h160v-160H180v160Zm440 0h160v-160H620v160ZM180-180h160v-160H180v160Zm440 0h160v-160H620v160Z\"/>\n",
              "  </svg>\n",
              "    </button>\n",
              "\n",
              "  <style>\n",
              "    .colab-df-container {\n",
              "      display:flex;\n",
              "      gap: 12px;\n",
              "    }\n",
              "\n",
              "    .colab-df-convert {\n",
              "      background-color: #E8F0FE;\n",
              "      border: none;\n",
              "      border-radius: 50%;\n",
              "      cursor: pointer;\n",
              "      display: none;\n",
              "      fill: #1967D2;\n",
              "      height: 32px;\n",
              "      padding: 0 0 0 0;\n",
              "      width: 32px;\n",
              "    }\n",
              "\n",
              "    .colab-df-convert:hover {\n",
              "      background-color: #E2EBFA;\n",
              "      box-shadow: 0px 1px 2px rgba(60, 64, 67, 0.3), 0px 1px 3px 1px rgba(60, 64, 67, 0.15);\n",
              "      fill: #174EA6;\n",
              "    }\n",
              "\n",
              "    .colab-df-buttons div {\n",
              "      margin-bottom: 4px;\n",
              "    }\n",
              "\n",
              "    [theme=dark] .colab-df-convert {\n",
              "      background-color: #3B4455;\n",
              "      fill: #D2E3FC;\n",
              "    }\n",
              "\n",
              "    [theme=dark] .colab-df-convert:hover {\n",
              "      background-color: #434B5C;\n",
              "      box-shadow: 0px 1px 3px 1px rgba(0, 0, 0, 0.15);\n",
              "      filter: drop-shadow(0px 1px 2px rgba(0, 0, 0, 0.3));\n",
              "      fill: #FFFFFF;\n",
              "    }\n",
              "  </style>\n",
              "\n",
              "    <script>\n",
              "      const buttonEl =\n",
              "        document.querySelector('#df-d3bd003b-57fe-469a-afcc-c5b5ae826559 button.colab-df-convert');\n",
              "      buttonEl.style.display =\n",
              "        google.colab.kernel.accessAllowed ? 'block' : 'none';\n",
              "\n",
              "      async function convertToInteractive(key) {\n",
              "        const element = document.querySelector('#df-d3bd003b-57fe-469a-afcc-c5b5ae826559');\n",
              "        const dataTable =\n",
              "          await google.colab.kernel.invokeFunction('convertToInteractive',\n",
              "                                                    [key], {});\n",
              "        if (!dataTable) return;\n",
              "\n",
              "        const docLinkHtml = 'Like what you see? Visit the ' +\n",
              "          '<a target=\"_blank\" href=https://colab.research.google.com/notebooks/data_table.ipynb>data table notebook</a>'\n",
              "          + ' to learn more about interactive tables.';\n",
              "        element.innerHTML = '';\n",
              "        dataTable['output_type'] = 'display_data';\n",
              "        await google.colab.output.renderOutput(dataTable, element);\n",
              "        const docLink = document.createElement('div');\n",
              "        docLink.innerHTML = docLinkHtml;\n",
              "        element.appendChild(docLink);\n",
              "      }\n",
              "    </script>\n",
              "  </div>\n",
              "\n",
              "\n",
              "<div id=\"df-8ba6a391-1b07-48c5-96a8-f948c6942cbb\">\n",
              "  <button class=\"colab-df-quickchart\" onclick=\"quickchart('df-8ba6a391-1b07-48c5-96a8-f948c6942cbb')\"\n",
              "            title=\"Suggest charts\"\n",
              "            style=\"display:none;\">\n",
              "\n",
              "<svg xmlns=\"http://www.w3.org/2000/svg\" height=\"24px\"viewBox=\"0 0 24 24\"\n",
              "     width=\"24px\">\n",
              "    <g>\n",
              "        <path d=\"M19 3H5c-1.1 0-2 .9-2 2v14c0 1.1.9 2 2 2h14c1.1 0 2-.9 2-2V5c0-1.1-.9-2-2-2zM9 17H7v-7h2v7zm4 0h-2V7h2v10zm4 0h-2v-4h2v4z\"/>\n",
              "    </g>\n",
              "</svg>\n",
              "  </button>\n",
              "\n",
              "<style>\n",
              "  .colab-df-quickchart {\n",
              "      --bg-color: #E8F0FE;\n",
              "      --fill-color: #1967D2;\n",
              "      --hover-bg-color: #E2EBFA;\n",
              "      --hover-fill-color: #174EA6;\n",
              "      --disabled-fill-color: #AAA;\n",
              "      --disabled-bg-color: #DDD;\n",
              "  }\n",
              "\n",
              "  [theme=dark] .colab-df-quickchart {\n",
              "      --bg-color: #3B4455;\n",
              "      --fill-color: #D2E3FC;\n",
              "      --hover-bg-color: #434B5C;\n",
              "      --hover-fill-color: #FFFFFF;\n",
              "      --disabled-bg-color: #3B4455;\n",
              "      --disabled-fill-color: #666;\n",
              "  }\n",
              "\n",
              "  .colab-df-quickchart {\n",
              "    background-color: var(--bg-color);\n",
              "    border: none;\n",
              "    border-radius: 50%;\n",
              "    cursor: pointer;\n",
              "    display: none;\n",
              "    fill: var(--fill-color);\n",
              "    height: 32px;\n",
              "    padding: 0;\n",
              "    width: 32px;\n",
              "  }\n",
              "\n",
              "  .colab-df-quickchart:hover {\n",
              "    background-color: var(--hover-bg-color);\n",
              "    box-shadow: 0 1px 2px rgba(60, 64, 67, 0.3), 0 1px 3px 1px rgba(60, 64, 67, 0.15);\n",
              "    fill: var(--button-hover-fill-color);\n",
              "  }\n",
              "\n",
              "  .colab-df-quickchart-complete:disabled,\n",
              "  .colab-df-quickchart-complete:disabled:hover {\n",
              "    background-color: var(--disabled-bg-color);\n",
              "    fill: var(--disabled-fill-color);\n",
              "    box-shadow: none;\n",
              "  }\n",
              "\n",
              "  .colab-df-spinner {\n",
              "    border: 2px solid var(--fill-color);\n",
              "    border-color: transparent;\n",
              "    border-bottom-color: var(--fill-color);\n",
              "    animation:\n",
              "      spin 1s steps(1) infinite;\n",
              "  }\n",
              "\n",
              "  @keyframes spin {\n",
              "    0% {\n",
              "      border-color: transparent;\n",
              "      border-bottom-color: var(--fill-color);\n",
              "      border-left-color: var(--fill-color);\n",
              "    }\n",
              "    20% {\n",
              "      border-color: transparent;\n",
              "      border-left-color: var(--fill-color);\n",
              "      border-top-color: var(--fill-color);\n",
              "    }\n",
              "    30% {\n",
              "      border-color: transparent;\n",
              "      border-left-color: var(--fill-color);\n",
              "      border-top-color: var(--fill-color);\n",
              "      border-right-color: var(--fill-color);\n",
              "    }\n",
              "    40% {\n",
              "      border-color: transparent;\n",
              "      border-right-color: var(--fill-color);\n",
              "      border-top-color: var(--fill-color);\n",
              "    }\n",
              "    60% {\n",
              "      border-color: transparent;\n",
              "      border-right-color: var(--fill-color);\n",
              "    }\n",
              "    80% {\n",
              "      border-color: transparent;\n",
              "      border-right-color: var(--fill-color);\n",
              "      border-bottom-color: var(--fill-color);\n",
              "    }\n",
              "    90% {\n",
              "      border-color: transparent;\n",
              "      border-bottom-color: var(--fill-color);\n",
              "    }\n",
              "  }\n",
              "</style>\n",
              "\n",
              "  <script>\n",
              "    async function quickchart(key) {\n",
              "      const quickchartButtonEl =\n",
              "        document.querySelector('#' + key + ' button');\n",
              "      quickchartButtonEl.disabled = true;  // To prevent multiple clicks.\n",
              "      quickchartButtonEl.classList.add('colab-df-spinner');\n",
              "      try {\n",
              "        const charts = await google.colab.kernel.invokeFunction(\n",
              "            'suggestCharts', [key], {});\n",
              "      } catch (error) {\n",
              "        console.error('Error during call to suggestCharts:', error);\n",
              "      }\n",
              "      quickchartButtonEl.classList.remove('colab-df-spinner');\n",
              "      quickchartButtonEl.classList.add('colab-df-quickchart-complete');\n",
              "    }\n",
              "    (() => {\n",
              "      let quickchartButtonEl =\n",
              "        document.querySelector('#df-8ba6a391-1b07-48c5-96a8-f948c6942cbb button');\n",
              "      quickchartButtonEl.style.display =\n",
              "        google.colab.kernel.accessAllowed ? 'block' : 'none';\n",
              "    })();\n",
              "  </script>\n",
              "</div>\n",
              "\n",
              "    </div>\n",
              "  </div>\n"
            ],
            "text/plain": [
              "                              Title  Release Year  IMDB Rating  \\\n",
              "0                          Hanu-Man        2024.0          8.0   \n",
              "1  Teri Baaton Mein Aisa Uljha Jiya        2024.0          6.5   \n",
              "2                       Oppenheimer        2023.0          8.3   \n",
              "3                           Fighter        2024.0          6.4   \n",
              "4                 Anatomy of a Fall        2023.0          7.7   \n",
              "\n",
              "                                               Genre   Runtime Age rating  \\\n",
              "0  Comedy, Science-Fiction, Fantasy, Action & Adv...  2h 39min         UA   \n",
              "1            Romance, Science-Fiction, Comedy, Drama  2h 21min        NaN   \n",
              "2                                     Drama, History   3h 0min         UA   \n",
              "3  Mystery & Thriller, War & Military, Action & A...  2h 47min         UA   \n",
              "4                   Mystery & Thriller, Crime, Drama  2h 32min        NaN   \n",
              "\n",
              "              production details   streaming details   Type  \\\n",
              "0                          India    Jio Cinema, Zee5  Movie   \n",
              "1                          India  Amazon Prime Video  Movie   \n",
              "2  United Kingdom, United States            Apple TV  Movie   \n",
              "3                          India             Netflix  Movie   \n",
              "4                         France  Amazon Prime Video  Movie   \n",
              "\n",
              "                                          URL_Movies URL_TV_show  \n",
              "0        https://www.justwatch.com/in/movie/hanu-man         NaN  \n",
              "1  https://www.justwatch.com/in/movie/untitled-sh...         NaN  \n",
              "2     https://www.justwatch.com/in/movie/oppenheimer         NaN  \n",
              "3    https://www.justwatch.com/in/movie/fighter-2022         NaN  \n",
              "4  https://www.justwatch.com/in/movie/anatomie-du...         NaN  "
            ]
          },
          "execution_count": 113,
          "metadata": {},
          "output_type": "execute_result"
        }
      ],
      "source": [
        "#Handling the missing values\n",
        "Final_df.replace(\"NaN\", np.nan)\n",
        "Final_df.head()"
      ]
    },
    {
      "cell_type": "code",
      "execution_count": null,
      "metadata": {
        "colab": {
          "base_uri": "https://localhost:8080/",
          "height": 310
        },
        "id": "kvJbJIRHzLxI",
        "outputId": "c9a6d258-2ed4-4de3-ff14-b9db006e8df4"
      },
      "outputs": [
        {
          "data": {
            "application/vnd.google.colaboratory.intrinsic+json": {
              "summary": "{\n  \"name\": \"filter_df\",\n  \"rows\": 68,\n  \"fields\": [\n    {\n      \"column\": \"Title\",\n      \"properties\": {\n        \"dtype\": \"string\",\n        \"num_unique_values\": 68,\n        \"samples\": [\n          \"Avatar: The Last Airbender\",\n          \"Anweshippin Kandethum\",\n          \"Poor Things\"\n        ],\n        \"semantic_type\": \"\",\n        \"description\": \"\"\n      }\n    },\n    {\n      \"column\": \"Release Year\",\n      \"properties\": {\n        \"dtype\": \"number\",\n        \"std\": 0.7172770675070786,\n        \"min\": 2022.0,\n        \"max\": 2024.0,\n        \"num_unique_values\": 3,\n        \"samples\": [\n          2024.0,\n          2023.0,\n          2022.0\n        ],\n        \"semantic_type\": \"\",\n        \"description\": \"\"\n      }\n    },\n    {\n      \"column\": \"IMDB Rating\",\n      \"properties\": {\n        \"dtype\": \"number\",\n        \"std\": 0.5399960166340905,\n        \"min\": 7.0,\n        \"max\": 9.1,\n        \"num_unique_values\": 20,\n        \"samples\": [\n          8.0,\n          9.1,\n          7.6\n        ],\n        \"semantic_type\": \"\",\n        \"description\": \"\"\n      }\n    },\n    {\n      \"column\": \"Genre\",\n      \"properties\": {\n        \"dtype\": \"string\",\n        \"num_unique_values\": 51,\n        \"samples\": [\n          \"Animation, Comedy, Action & Adventure, Science-Fiction, Fantasy\",\n          \"Documentary\",\n          \"Drama, Mystery & Thriller, Crime\"\n        ],\n        \"semantic_type\": \"\",\n        \"description\": \"\"\n      }\n    },\n    {\n      \"column\": \"Runtime\",\n      \"properties\": {\n        \"dtype\": \"string\",\n        \"num_unique_values\": 53,\n        \"samples\": [\n          \"2h 1min\",\n          \"53min\",\n          \"46min\"\n        ],\n        \"semantic_type\": \"\",\n        \"description\": \"\"\n      }\n    },\n    {\n      \"column\": \"Age rating\",\n      \"properties\": {\n        \"dtype\": \"category\",\n        \"num_unique_values\": 4,\n        \"samples\": [\n          \"NaN\",\n          \"U\",\n          \"UA\"\n        ],\n        \"semantic_type\": \"\",\n        \"description\": \"\"\n      }\n    },\n    {\n      \"column\": \"production details\",\n      \"properties\": {\n        \"dtype\": \"category\",\n        \"num_unique_values\": 13,\n        \"samples\": [\n          \"South Korea\",\n          \"Canada\",\n          \"India\"\n        ],\n        \"semantic_type\": \"\",\n        \"description\": \"\"\n      }\n    },\n    {\n      \"column\": \"streaming details\",\n      \"properties\": {\n        \"dtype\": \"category\",\n        \"num_unique_values\": 16,\n        \"samples\": [\n          \"Jio Cinema, Zee5\",\n          \"Apple TV\",\n          \"aha\"\n        ],\n        \"semantic_type\": \"\",\n        \"description\": \"\"\n      }\n    },\n    {\n      \"column\": \"Type\",\n      \"properties\": {\n        \"dtype\": \"category\",\n        \"num_unique_values\": 2,\n        \"samples\": [\n          \"TV Show\",\n          \"Movie\"\n        ],\n        \"semantic_type\": \"\",\n        \"description\": \"\"\n      }\n    },\n    {\n      \"column\": \"URL_Movies\",\n      \"properties\": {\n        \"dtype\": \"string\",\n        \"num_unique_values\": 36,\n        \"samples\": [\n          \"https://www.justwatch.com/in/movie/masthu-shades-unnai-ra\",\n          \"https://www.justwatch.com/in/movie/sam-bahadur\"\n        ],\n        \"semantic_type\": \"\",\n        \"description\": \"\"\n      }\n    },\n    {\n      \"column\": \"URL_TV_show\",\n      \"properties\": {\n        \"dtype\": \"category\",\n        \"num_unique_values\": 32,\n        \"samples\": [\n          \"https://www.justwatch.com/in/tv-show/wonderful-world\",\n          \"https://www.justwatch.com/in/tv-show/house-of-the-dragon\"\n        ],\n        \"semantic_type\": \"\",\n        \"description\": \"\"\n      }\n    }\n  ]\n}",
              "type": "dataframe",
              "variable_name": "filter_df"
            },
            "text/html": [
              "\n",
              "  <div id=\"df-2a43c671-90b2-4ff2-a348-7b4c7adcb6e2\" class=\"colab-df-container\">\n",
              "    <div>\n",
              "<style scoped>\n",
              "    .dataframe tbody tr th:only-of-type {\n",
              "        vertical-align: middle;\n",
              "    }\n",
              "\n",
              "    .dataframe tbody tr th {\n",
              "        vertical-align: top;\n",
              "    }\n",
              "\n",
              "    .dataframe thead th {\n",
              "        text-align: right;\n",
              "    }\n",
              "</style>\n",
              "<table border=\"1\" class=\"dataframe\">\n",
              "  <thead>\n",
              "    <tr style=\"text-align: right;\">\n",
              "      <th></th>\n",
              "      <th>Title</th>\n",
              "      <th>Release Year</th>\n",
              "      <th>IMDB Rating</th>\n",
              "      <th>Genre</th>\n",
              "      <th>Runtime</th>\n",
              "      <th>Age rating</th>\n",
              "      <th>production details</th>\n",
              "      <th>streaming details</th>\n",
              "      <th>Type</th>\n",
              "      <th>URL_Movies</th>\n",
              "      <th>URL_TV_show</th>\n",
              "    </tr>\n",
              "  </thead>\n",
              "  <tbody>\n",
              "    <tr>\n",
              "      <th>0</th>\n",
              "      <td>Hanu-Man</td>\n",
              "      <td>2024.0</td>\n",
              "      <td>8.0</td>\n",
              "      <td>Comedy, Science-Fiction, Fantasy, Action &amp; Adv...</td>\n",
              "      <td>2h 39min</td>\n",
              "      <td>UA</td>\n",
              "      <td>India</td>\n",
              "      <td>Jio Cinema, Zee5</td>\n",
              "      <td>Movie</td>\n",
              "      <td>https://www.justwatch.com/in/movie/hanu-man</td>\n",
              "      <td>NaN</td>\n",
              "    </tr>\n",
              "    <tr>\n",
              "      <th>2</th>\n",
              "      <td>Oppenheimer</td>\n",
              "      <td>2023.0</td>\n",
              "      <td>8.3</td>\n",
              "      <td>Drama, History</td>\n",
              "      <td>3h 0min</td>\n",
              "      <td>UA</td>\n",
              "      <td>United Kingdom, United States</td>\n",
              "      <td>Apple TV</td>\n",
              "      <td>Movie</td>\n",
              "      <td>https://www.justwatch.com/in/movie/oppenheimer</td>\n",
              "      <td>NaN</td>\n",
              "    </tr>\n",
              "    <tr>\n",
              "      <th>4</th>\n",
              "      <td>Anatomy of a Fall</td>\n",
              "      <td>2023.0</td>\n",
              "      <td>7.7</td>\n",
              "      <td>Mystery &amp; Thriller, Crime, Drama</td>\n",
              "      <td>2h 32min</td>\n",
              "      <td>NaN</td>\n",
              "      <td>France</td>\n",
              "      <td>Amazon Prime Video</td>\n",
              "      <td>Movie</td>\n",
              "      <td>https://www.justwatch.com/in/movie/anatomie-du...</td>\n",
              "      <td>NaN</td>\n",
              "    </tr>\n",
              "    <tr>\n",
              "      <th>5</th>\n",
              "      <td>Bramayugam</td>\n",
              "      <td>2024.0</td>\n",
              "      <td>8.0</td>\n",
              "      <td>Horror, Mystery &amp; Thriller</td>\n",
              "      <td>2h 19min</td>\n",
              "      <td>UA</td>\n",
              "      <td>India</td>\n",
              "      <td>Sony Liv</td>\n",
              "      <td>Movie</td>\n",
              "      <td>https://www.justwatch.com/in/movie/bramayugam</td>\n",
              "      <td>NaN</td>\n",
              "    </tr>\n",
              "    <tr>\n",
              "      <th>6</th>\n",
              "      <td>Poor Things</td>\n",
              "      <td>2023.0</td>\n",
              "      <td>7.9</td>\n",
              "      <td>Comedy, Science-Fiction, Drama, Romance</td>\n",
              "      <td>2h 21min</td>\n",
              "      <td>A</td>\n",
              "      <td>Ireland, United Kingdom, United States</td>\n",
              "      <td>Apple TV</td>\n",
              "      <td>Movie</td>\n",
              "      <td>https://www.justwatch.com/in/movie/poor-things</td>\n",
              "      <td>NaN</td>\n",
              "    </tr>\n",
              "  </tbody>\n",
              "</table>\n",
              "</div>\n",
              "    <div class=\"colab-df-buttons\">\n",
              "\n",
              "  <div class=\"colab-df-container\">\n",
              "    <button class=\"colab-df-convert\" onclick=\"convertToInteractive('df-2a43c671-90b2-4ff2-a348-7b4c7adcb6e2')\"\n",
              "            title=\"Convert this dataframe to an interactive table.\"\n",
              "            style=\"display:none;\">\n",
              "\n",
              "  <svg xmlns=\"http://www.w3.org/2000/svg\" height=\"24px\" viewBox=\"0 -960 960 960\">\n",
              "    <path d=\"M120-120v-720h720v720H120Zm60-500h600v-160H180v160Zm220 220h160v-160H400v160Zm0 220h160v-160H400v160ZM180-400h160v-160H180v160Zm440 0h160v-160H620v160ZM180-180h160v-160H180v160Zm440 0h160v-160H620v160Z\"/>\n",
              "  </svg>\n",
              "    </button>\n",
              "\n",
              "  <style>\n",
              "    .colab-df-container {\n",
              "      display:flex;\n",
              "      gap: 12px;\n",
              "    }\n",
              "\n",
              "    .colab-df-convert {\n",
              "      background-color: #E8F0FE;\n",
              "      border: none;\n",
              "      border-radius: 50%;\n",
              "      cursor: pointer;\n",
              "      display: none;\n",
              "      fill: #1967D2;\n",
              "      height: 32px;\n",
              "      padding: 0 0 0 0;\n",
              "      width: 32px;\n",
              "    }\n",
              "\n",
              "    .colab-df-convert:hover {\n",
              "      background-color: #E2EBFA;\n",
              "      box-shadow: 0px 1px 2px rgba(60, 64, 67, 0.3), 0px 1px 3px 1px rgba(60, 64, 67, 0.15);\n",
              "      fill: #174EA6;\n",
              "    }\n",
              "\n",
              "    .colab-df-buttons div {\n",
              "      margin-bottom: 4px;\n",
              "    }\n",
              "\n",
              "    [theme=dark] .colab-df-convert {\n",
              "      background-color: #3B4455;\n",
              "      fill: #D2E3FC;\n",
              "    }\n",
              "\n",
              "    [theme=dark] .colab-df-convert:hover {\n",
              "      background-color: #434B5C;\n",
              "      box-shadow: 0px 1px 3px 1px rgba(0, 0, 0, 0.15);\n",
              "      filter: drop-shadow(0px 1px 2px rgba(0, 0, 0, 0.3));\n",
              "      fill: #FFFFFF;\n",
              "    }\n",
              "  </style>\n",
              "\n",
              "    <script>\n",
              "      const buttonEl =\n",
              "        document.querySelector('#df-2a43c671-90b2-4ff2-a348-7b4c7adcb6e2 button.colab-df-convert');\n",
              "      buttonEl.style.display =\n",
              "        google.colab.kernel.accessAllowed ? 'block' : 'none';\n",
              "\n",
              "      async function convertToInteractive(key) {\n",
              "        const element = document.querySelector('#df-2a43c671-90b2-4ff2-a348-7b4c7adcb6e2');\n",
              "        const dataTable =\n",
              "          await google.colab.kernel.invokeFunction('convertToInteractive',\n",
              "                                                    [key], {});\n",
              "        if (!dataTable) return;\n",
              "\n",
              "        const docLinkHtml = 'Like what you see? Visit the ' +\n",
              "          '<a target=\"_blank\" href=https://colab.research.google.com/notebooks/data_table.ipynb>data table notebook</a>'\n",
              "          + ' to learn more about interactive tables.';\n",
              "        element.innerHTML = '';\n",
              "        dataTable['output_type'] = 'display_data';\n",
              "        await google.colab.output.renderOutput(dataTable, element);\n",
              "        const docLink = document.createElement('div');\n",
              "        docLink.innerHTML = docLinkHtml;\n",
              "        element.appendChild(docLink);\n",
              "      }\n",
              "    </script>\n",
              "  </div>\n",
              "\n",
              "\n",
              "<div id=\"df-72e186ac-4edb-4be0-baa5-34b4ecc91cd9\">\n",
              "  <button class=\"colab-df-quickchart\" onclick=\"quickchart('df-72e186ac-4edb-4be0-baa5-34b4ecc91cd9')\"\n",
              "            title=\"Suggest charts\"\n",
              "            style=\"display:none;\">\n",
              "\n",
              "<svg xmlns=\"http://www.w3.org/2000/svg\" height=\"24px\"viewBox=\"0 0 24 24\"\n",
              "     width=\"24px\">\n",
              "    <g>\n",
              "        <path d=\"M19 3H5c-1.1 0-2 .9-2 2v14c0 1.1.9 2 2 2h14c1.1 0 2-.9 2-2V5c0-1.1-.9-2-2-2zM9 17H7v-7h2v7zm4 0h-2V7h2v10zm4 0h-2v-4h2v4z\"/>\n",
              "    </g>\n",
              "</svg>\n",
              "  </button>\n",
              "\n",
              "<style>\n",
              "  .colab-df-quickchart {\n",
              "      --bg-color: #E8F0FE;\n",
              "      --fill-color: #1967D2;\n",
              "      --hover-bg-color: #E2EBFA;\n",
              "      --hover-fill-color: #174EA6;\n",
              "      --disabled-fill-color: #AAA;\n",
              "      --disabled-bg-color: #DDD;\n",
              "  }\n",
              "\n",
              "  [theme=dark] .colab-df-quickchart {\n",
              "      --bg-color: #3B4455;\n",
              "      --fill-color: #D2E3FC;\n",
              "      --hover-bg-color: #434B5C;\n",
              "      --hover-fill-color: #FFFFFF;\n",
              "      --disabled-bg-color: #3B4455;\n",
              "      --disabled-fill-color: #666;\n",
              "  }\n",
              "\n",
              "  .colab-df-quickchart {\n",
              "    background-color: var(--bg-color);\n",
              "    border: none;\n",
              "    border-radius: 50%;\n",
              "    cursor: pointer;\n",
              "    display: none;\n",
              "    fill: var(--fill-color);\n",
              "    height: 32px;\n",
              "    padding: 0;\n",
              "    width: 32px;\n",
              "  }\n",
              "\n",
              "  .colab-df-quickchart:hover {\n",
              "    background-color: var(--hover-bg-color);\n",
              "    box-shadow: 0 1px 2px rgba(60, 64, 67, 0.3), 0 1px 3px 1px rgba(60, 64, 67, 0.15);\n",
              "    fill: var(--button-hover-fill-color);\n",
              "  }\n",
              "\n",
              "  .colab-df-quickchart-complete:disabled,\n",
              "  .colab-df-quickchart-complete:disabled:hover {\n",
              "    background-color: var(--disabled-bg-color);\n",
              "    fill: var(--disabled-fill-color);\n",
              "    box-shadow: none;\n",
              "  }\n",
              "\n",
              "  .colab-df-spinner {\n",
              "    border: 2px solid var(--fill-color);\n",
              "    border-color: transparent;\n",
              "    border-bottom-color: var(--fill-color);\n",
              "    animation:\n",
              "      spin 1s steps(1) infinite;\n",
              "  }\n",
              "\n",
              "  @keyframes spin {\n",
              "    0% {\n",
              "      border-color: transparent;\n",
              "      border-bottom-color: var(--fill-color);\n",
              "      border-left-color: var(--fill-color);\n",
              "    }\n",
              "    20% {\n",
              "      border-color: transparent;\n",
              "      border-left-color: var(--fill-color);\n",
              "      border-top-color: var(--fill-color);\n",
              "    }\n",
              "    30% {\n",
              "      border-color: transparent;\n",
              "      border-left-color: var(--fill-color);\n",
              "      border-top-color: var(--fill-color);\n",
              "      border-right-color: var(--fill-color);\n",
              "    }\n",
              "    40% {\n",
              "      border-color: transparent;\n",
              "      border-right-color: var(--fill-color);\n",
              "      border-top-color: var(--fill-color);\n",
              "    }\n",
              "    60% {\n",
              "      border-color: transparent;\n",
              "      border-right-color: var(--fill-color);\n",
              "    }\n",
              "    80% {\n",
              "      border-color: transparent;\n",
              "      border-right-color: var(--fill-color);\n",
              "      border-bottom-color: var(--fill-color);\n",
              "    }\n",
              "    90% {\n",
              "      border-color: transparent;\n",
              "      border-bottom-color: var(--fill-color);\n",
              "    }\n",
              "  }\n",
              "</style>\n",
              "\n",
              "  <script>\n",
              "    async function quickchart(key) {\n",
              "      const quickchartButtonEl =\n",
              "        document.querySelector('#' + key + ' button');\n",
              "      quickchartButtonEl.disabled = true;  // To prevent multiple clicks.\n",
              "      quickchartButtonEl.classList.add('colab-df-spinner');\n",
              "      try {\n",
              "        const charts = await google.colab.kernel.invokeFunction(\n",
              "            'suggestCharts', [key], {});\n",
              "      } catch (error) {\n",
              "        console.error('Error during call to suggestCharts:', error);\n",
              "      }\n",
              "      quickchartButtonEl.classList.remove('colab-df-spinner');\n",
              "      quickchartButtonEl.classList.add('colab-df-quickchart-complete');\n",
              "    }\n",
              "    (() => {\n",
              "      let quickchartButtonEl =\n",
              "        document.querySelector('#df-72e186ac-4edb-4be0-baa5-34b4ecc91cd9 button');\n",
              "      quickchartButtonEl.style.display =\n",
              "        google.colab.kernel.accessAllowed ? 'block' : 'none';\n",
              "    })();\n",
              "  </script>\n",
              "</div>\n",
              "\n",
              "    </div>\n",
              "  </div>\n"
            ],
            "text/plain": [
              "               Title  Release Year  IMDB Rating  \\\n",
              "0           Hanu-Man        2024.0          8.0   \n",
              "2        Oppenheimer        2023.0          8.3   \n",
              "4  Anatomy of a Fall        2023.0          7.7   \n",
              "5         Bramayugam        2024.0          8.0   \n",
              "6        Poor Things        2023.0          7.9   \n",
              "\n",
              "                                               Genre   Runtime Age rating  \\\n",
              "0  Comedy, Science-Fiction, Fantasy, Action & Adv...  2h 39min         UA   \n",
              "2                                     Drama, History   3h 0min         UA   \n",
              "4                   Mystery & Thriller, Crime, Drama  2h 32min        NaN   \n",
              "5                         Horror, Mystery & Thriller  2h 19min         UA   \n",
              "6            Comedy, Science-Fiction, Drama, Romance  2h 21min          A   \n",
              "\n",
              "                       production details   streaming details   Type  \\\n",
              "0                                   India    Jio Cinema, Zee5  Movie   \n",
              "2           United Kingdom, United States            Apple TV  Movie   \n",
              "4                                  France  Amazon Prime Video  Movie   \n",
              "5                                   India            Sony Liv  Movie   \n",
              "6  Ireland, United Kingdom, United States            Apple TV  Movie   \n",
              "\n",
              "                                          URL_Movies URL_TV_show  \n",
              "0        https://www.justwatch.com/in/movie/hanu-man         NaN  \n",
              "2     https://www.justwatch.com/in/movie/oppenheimer         NaN  \n",
              "4  https://www.justwatch.com/in/movie/anatomie-du...         NaN  \n",
              "5      https://www.justwatch.com/in/movie/bramayugam         NaN  \n",
              "6     https://www.justwatch.com/in/movie/poor-things         NaN  "
            ]
          },
          "execution_count": 128,
          "metadata": {},
          "output_type": "execute_result"
        }
      ],
      "source": [
        "filter_df= Final_df.loc[(Final_df[\"Release Year\"] >= 2022) & (Final_df[\"IMDB Rating\"] >= 7)]\n",
        "filter_df.head()"
      ]
    },
    {
      "cell_type": "markdown",
      "metadata": {
        "id": "0bPDbn-gPyfm"
      },
      "source": [
        "## **Calculating Mean IMDB Ratings for both Movies and Tv Shows**"
      ]
    },
    {
      "cell_type": "code",
      "execution_count": null,
      "metadata": {
        "colab": {
          "base_uri": "https://localhost:8080/"
        },
        "id": "6aGmGPOlIkk4",
        "outputId": "77be7d47-379d-4e9f-ba72-38571ac52da2"
      },
      "outputs": [
        {
          "data": {
            "text/plain": [
              "Type\n",
              "Movie      7.004000\n",
              "TV Show    7.877083\n",
              "Name: IMDB Rating, dtype: float64"
            ]
          },
          "execution_count": 115,
          "metadata": {},
          "output_type": "execute_result"
        }
      ],
      "source": [
        "# Write Your Code here\n",
        "Mean_Rating = Final_df.groupby(\"Type\")[\"IMDB Rating\"].mean()\n",
        "Mean_Rating"
      ]
    },
    {
      "cell_type": "markdown",
      "metadata": {
        "id": "N_OroblUQG4r"
      },
      "source": [
        "## **Analyzing Top Genres**"
      ]
    },
    {
      "cell_type": "code",
      "execution_count": null,
      "metadata": {
        "colab": {
          "base_uri": "https://localhost:8080/"
        },
        "id": "4ljPnIn2LJLZ",
        "outputId": "412c15c9-dbd0-46c8-c83c-a4e873a49168"
      },
      "outputs": [
        {
          "data": {
            "text/plain": [
              "Genre\n",
              "Drama                               11\n",
              "Drama, Mystery & Thriller, Crime     8\n",
              "Crime, Drama, Mystery & Thriller     5\n",
              "Drama, Crime, Mystery & Thriller     4\n",
              "Drama, Comedy                        4\n",
              "Name: count, dtype: int64"
            ]
          },
          "execution_count": 116,
          "metadata": {},
          "output_type": "execute_result"
        }
      ],
      "source": [
        "# Write Your Code here\n",
        "genres_count = Final_df[\"Genre\"].value_counts()\n",
        "Top_5_genres = genres_count.head()\n",
        "Top_5_genres"
      ]
    },
    {
      "cell_type": "code",
      "execution_count": null,
      "metadata": {
        "id": "IPNUCTktGDOk"
      },
      "outputs": [],
      "source": [
        "#Let's Visvalize it using word cloud\n",
        "# import the module\n",
        "from wordcloud import WordCloud, STOPWORDS"
      ]
    },
    {
      "cell_type": "code",
      "execution_count": null,
      "metadata": {
        "colab": {
          "base_uri": "https://localhost:8080/"
        },
        "id": "VPfhhvTYGr_z",
        "outputId": "53d9c61d-64f9-466a-d8ba-dd9bf8d7038d"
      },
      "outputs": [
        {
          "data": {
            "image/png": "[encoded data removed]",
            "text/plain": [
              "<Figure size 1000x1000 with 1 Axes>"
            ]
          },
          "metadata": {},
          "output_type": "display_data"
        }
      ],
      "source": [
        "# Make the index of the top genres into a string for wordcloud\n",
        "import matplotlib.pyplot as plt\n",
        "\n",
        "text = \",\".join(Top_5_genres.index)\n",
        "wordcloud = WordCloud(width = 3000, height = 1000, collocations= False, background_color = \"black\").generate(text)\n",
        "plt.figure(figsize = (10,10))\n",
        "#set figure size\n",
        "plt.imshow(wordcloud, interpolation = \"bilinear\")\n",
        "#Display image\n",
        "plt.axis(\"off\")\n",
        "plt.show()"
      ]
    },
    {
      "cell_type": "code",
      "execution_count": null,
      "metadata": {
        "colab": {
          "base_uri": "https://localhost:8080/"
        },
        "id": "7Nqu7MEEYa3c",
        "outputId": "cba82da1-9ea8-41aa-e3d5-362bfc054672"
      },
      "outputs": [
        {
          "data": {
            "image/png": "[encoded data removed]",
            "text/plain": [
              "<Figure size 640x480 with 1 Axes>"
            ]
          },
          "metadata": {},
          "output_type": "display_data"
        }
      ],
      "source": [
        "# Visualize it using barplot\n",
        "plt.bar(Top_5_genres.index, Top_5_genres.values )\n",
        "plt.xticks(rotation = 90)\n",
        "plt.title(\"Top_5_genres\")\n",
        "plt.xlabel(\"Genres\")\n",
        "plt.ylabel(\"Number of Movies and TV shows\")\n",
        "plt.show()"
      ]
    },
    {
      "cell_type": "markdown",
      "metadata": {
        "id": "BUPye0P0QP5I"
      },
      "source": [
        "## **Finding Predominant Streaming Service**"
      ]
    },
    {
      "cell_type": "code",
      "execution_count": null,
      "metadata": {
        "colab": {
          "base_uri": "https://localhost:8080/"
        },
        "id": "cLXiCZSAO_40",
        "outputId": "169b785f-3a4d-48d0-9098-49e0175c19a8"
      },
      "outputs": [
        {
          "data": {
            "text/plain": [
              "streaming details\n",
              "Netflix                                                                           40\n",
              "Amazon Prime Video                                                                39\n",
              "Apple TV                                                                          20\n",
              "Hotstar                                                                           14\n",
              "Bookmyshow                                                                         9\n",
              "Jio Cinema                                                                         8\n",
              "Apple TV Plus                                                                      7\n",
              "Zee5                                                                               6\n",
              "Netflix,Amazon Prime Video                                                         3\n",
              "Netflix,Crunchyroll                                                                3\n",
              "Sony Liv                                                                           3\n",
              "Lionsgate Play,Lionsgate Play Apple TV Channel,Lionsgate Play Amazon Channel       2\n",
              "Crunchyroll                                                                        2\n",
              "Amazon miniTV                                                                      2\n",
              "Lionsgate Play, Lionsgate Play Apple TV Channel, Lionsgate Play Amazon Channel     2\n",
              "Amazon Prime Video,Netflix                                                         1\n",
              "Netflix,Sony Liv                                                                   1\n",
              "MX Player                                                                          1\n",
              "Amazon Prime Video,Crunchyroll,Netflix                                             1\n",
              "Alt Balaji                                                                         1\n",
              "Jio Cinema, Zee5                                                                   1\n",
              "Jio Cinema,Alt Balaji                                                              1\n",
              "Sony Liv,VI movies and tv                                                          1\n",
              "VI movies and tv                                                                   1\n",
              "Lionsgate Play                                                                     1\n",
              "Sun Nxt                                                                            1\n",
              "Sony Liv, aha                                                                      1\n",
              "aha                                                                                1\n",
              "Netflix,Amazon Prime Video,Jio Cinema                                              1\n",
              "Name: count, dtype: int64"
            ]
          },
          "execution_count": 120,
          "metadata": {},
          "output_type": "execute_result"
        }
      ],
      "source": [
        "# Write Your Code here\n",
        "significant_stream_count = Final_df[\"streaming details\"][Final_df[\"streaming details\"]!=\"NaN\"].value_counts()\n",
        "significant_stream_count"
      ]
    },
    {
      "cell_type": "code",
      "execution_count": null,
      "metadata": {
        "colab": {
          "base_uri": "https://localhost:8080/"
        },
        "id": "egCMSoWiKTJD",
        "outputId": "1bf5a4a8-1699-478b-ea98-7514e9e63dd4"
      },
      "outputs": [
        {
          "data": {
            "image/png": "[encoded data removed]",
            "text/plain": [
              "<Figure size 1000x1000 with 1 Axes>"
            ]
          },
          "metadata": {},
          "output_type": "display_data"
        }
      ],
      "source": [
        "#Let's Visvalize it using word cloud\n",
        "Predominant_stream = significant_stream_count.head(3)\n",
        "text2 =\",\".join(Predominant_stream.index)\n",
        "wordcloud = WordCloud(width = 2000, height= 1000, collocations = False, background_color=\"white\").generate(text2)\n",
        "plt.figure(figsize = (10,10))\n",
        "plt.imshow(wordcloud, interpolation = \"bilinear\")\n",
        "plt.axis(\"off\")\n",
        "plt.show()"
      ]
    },
    {
      "cell_type": "code",
      "execution_count": null,
      "metadata": {
        "colab": {
          "base_uri": "https://localhost:8080/"
        },
        "id": "e0xdIO8APJYm",
        "outputId": "1e38d47d-5fd0-44f0-8246-a008ebb76596"
      },
      "outputs": [
        {
          "data": {
            "image/png": "[encoded data removed]",
            "text/plain": [
              "<Figure size 640x480 with 1 Axes>"
            ]
          },
          "metadata": {},
          "output_type": "display_data"
        }
      ],
      "source": [
        "# Visualize it using barplot\n",
        "cloud = significant_stream_count\n",
        "plt.bar(cloud.index, cloud.values )\n",
        "plt.xticks(rotation = 90)\n",
        "plt.title(\"Significant stream count\")\n",
        "plt.xlabel(\"Streaming Platform\")\n",
        "plt.ylabel(\"Count\")\n",
        "plt.show()\n"
      ]
    },
    {
      "cell_type": "markdown",
      "metadata": {
        "id": "tytqsADVR2x6"
      },
      "source": [
        "## **Task 3 :- Data Export**"
      ]
    },
    {
      "cell_type": "code",
      "execution_count": null,
      "metadata": {
        "id": "u4yaUlvrRj6g"
      },
      "outputs": [],
      "source": [
        "#saving final dataframe as Final Data in csv format\n",
        "Final_df.to_csv(\"FinaL_Data\")"
      ]
    },
    {
      "cell_type": "code",
      "execution_count": null,
      "metadata": {
        "id": "SSmCEV22SSW_"
      },
      "outputs": [],
      "source": [
        "#saving filter data as Filter Data in csv format\n",
        "filter_df.to_csv(\"Filter_Data\")"
      ]
    },
    {
      "cell_type": "markdown",
      "metadata": {
        "id": "j6F3wrlGWOcl"
      },
      "source": [
        "# **Dataset Drive Link (View Access with Anyone) -**"
      ]
    },
    {
      "cell_type": "code",
      "execution_count": null,
      "metadata": {
        "id": "HYMjY0b9iTd7"
      },
      "outputs": [],
      "source": [
        "Dataset_Drive_Link = 'https://drive.google.com/drive/folders/1LJWLVY43c3nLz53wuoLFyucWKQaPQ8Q3?usp=sharing'"
      ]
    },
    {
      "cell_type": "markdown",
      "metadata": {
        "id": "9s-10dFhWZf4"
      },
      "source": [
        "# ***Congratulations!!! You have completed your Assignment.***"
      ]
    }
  ],
  "metadata": {
    "colab": {
      "provenance": [],
      "include_colab_link": true
    },
    "kernelspec": {
      "display_name": "Python 3",
      "name": "python3"
    },
    "language_info": {
      "name": "python"
    }
  },
  "nbformat": 4,
  "nbformat_minor": 0
}